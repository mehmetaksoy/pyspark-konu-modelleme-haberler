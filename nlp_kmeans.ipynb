{
  "cells": [
    {
      "cell_type": "markdown",
      "metadata": {
        "application/vnd.databricks.v1+cell": {
          "cellMetadata": {
            "byteLimit": 2048000,
            "rowLimit": 10000
          },
          "inputWidgets": {},
          "nuid": "435ba416-07bf-4cb6-85a7-c7317ad4d461",
          "showTitle": false,
          "tableResultSettingsMap": {},
          "title": ""
        },
        "id": "33sTbkwU91Rr"
      },
      "source": [
        "###Gerekli kütüphaneler import edilir"
      ]
    },
    {
      "cell_type": "code",
      "execution_count": null,
      "metadata": {
        "application/vnd.databricks.v1+cell": {
          "cellMetadata": {
            "byteLimit": 2048000,
            "rowLimit": 10000
          },
          "inputWidgets": {},
          "nuid": "79ba337d-23e0-4923-8f14-2c47f3fcd212",
          "showTitle": false,
          "tableResultSettingsMap": {},
          "title": ""
        },
        "id": "WzjS0qb491Rw",
        "outputId": "e8083ff0-9fa3-419e-de4c-75929a53a061"
      },
      "outputs": [
        {
          "output_type": "stream",
          "name": "stdout",
          "text": [
            "Python interpreter will be restarted.\nRequirement already satisfied: nltk in /local_disk0/.ephemeral_nfs/envs/pythonEnv-34db334f-a336-4ba5-b4c2-82f15071df55/lib/python3.9/site-packages (3.8.1)\nRequirement already satisfied: tqdm in /local_disk0/.ephemeral_nfs/envs/pythonEnv-34db334f-a336-4ba5-b4c2-82f15071df55/lib/python3.9/site-packages (from nltk) (4.66.1)\nRequirement already satisfied: click in /databricks/python3/lib/python3.9/site-packages (from nltk) (8.0.4)\nRequirement already satisfied: regex>=2021.8.3 in /local_disk0/.ephemeral_nfs/envs/pythonEnv-34db334f-a336-4ba5-b4c2-82f15071df55/lib/python3.9/site-packages (from nltk) (2023.10.3)\nRequirement already satisfied: joblib in /databricks/python3/lib/python3.9/site-packages (from nltk) (1.1.1)\nPython interpreter will be restarted.\n"
          ]
        }
      ],
      "source": [
        "pip install nltk"
      ]
    },
    {
      "cell_type": "code",
      "execution_count": null,
      "metadata": {
        "application/vnd.databricks.v1+cell": {
          "cellMetadata": {
            "byteLimit": 2048000,
            "rowLimit": 10000
          },
          "inputWidgets": {},
          "nuid": "838bb7fa-c000-4763-bbdb-20fa3b7a777c",
          "showTitle": false,
          "tableResultSettingsMap": {},
          "title": ""
        },
        "id": "XFXESQlI91Ry",
        "outputId": "e7fa6299-5ecf-4a8e-9b3b-1f4391706dcd"
      },
      "outputs": [
        {
          "output_type": "display_data",
          "data": {
            "application/vnd.databricks.v1+bamboolib_hint": "{\"pd.DataFrames\": [], \"version\": \"0.0.1\"}",
            "text/plain": []
          },
          "metadata": {}
        }
      ],
      "source": [
        "import pandas as pd\n",
        "import numpy as np\n",
        "import matplotlib.pyplot as plt\n",
        "import seaborn as sns\n",
        "%matplotlib inline\n",
        "\n",
        "import pyspark\n",
        "from pyspark.sql import *\n",
        "from pyspark.sql.types import *\n",
        "from pyspark.sql.functions import *\n",
        "from pyspark import SparkContext, SparkConf"
      ]
    },
    {
      "cell_type": "markdown",
      "metadata": {
        "application/vnd.databricks.v1+cell": {
          "cellMetadata": {
            "byteLimit": 2048000,
            "rowLimit": 10000
          },
          "inputWidgets": {},
          "nuid": "3a3b09b2-65dd-4823-a243-eba86848e81b",
          "showTitle": false,
          "tableResultSettingsMap": {},
          "title": ""
        },
        "id": "KrLzKd_Z91Rz"
      },
      "source": [
        "### 1. Veri İndirme"
      ]
    },
    {
      "cell_type": "markdown",
      "metadata": {
        "application/vnd.databricks.v1+cell": {
          "cellMetadata": {
            "byteLimit": 2048000,
            "rowLimit": 10000
          },
          "inputWidgets": {},
          "nuid": "1c4cf54d-b797-4861-9681-620cd083ddb3",
          "showTitle": false,
          "tableResultSettingsMap": {},
          "title": ""
        },
        "id": "HvVDX3wB91Rz"
      },
      "source": [
        "#####Veri kümesini curl kullanarak yerel sürücü düğümünün /tmp klasörüne indirin"
      ]
    },
    {
      "cell_type": "code",
      "execution_count": null,
      "metadata": {
        "application/vnd.databricks.v1+cell": {
          "cellMetadata": {
            "byteLimit": 2048000,
            "rowLimit": 10000
          },
          "inputWidgets": {},
          "nuid": "124e7be8-e139-421f-adc1-dbd525178e72",
          "showTitle": false,
          "tableResultSettingsMap": {},
          "title": ""
        },
        "id": "9b-o77ZG91R0",
        "outputId": "63ef652d-2f27-4ca5-9712-3f191d5cbb05"
      },
      "outputs": [
        {
          "output_type": "stream",
          "name": "stdout",
          "text": [
            "  % Total    % Received % Xferd  Average Speed   Time    Time     Time  Current\n                                 Dload  Upload   Total   Spent    Left  Speed\n\n  0     0    0     0    0     0      0      0 --:--:-- --:--:-- --:--:--     0\n  0     0    0     0    0     0      0      0 --:--:--  0:00:01 --:--:--     0\n  0     0    0     0    0     0      0      0 --:--:--  0:00:02 --:--:--     0\n  0     0    0     0    0     0      0      0 --:--:--  0:00:03 --:--:--     0\n  0     0    0     0    0     0      0      0 --:--:--  0:00:03 --:--:--     0\n  0     0    0     0    0     0      0      0 --:--:--  0:00:03 --:--:--     0\n\n  7 52.2M    7 4176k    0     0   939k      0  0:00:56  0:00:04  0:00:52  939k\n 61 52.2M   61 32.0M    0     0  6105k      0  0:00:08  0:00:05  0:00:03 30.1M\n100 52.2M  100 52.2M    0     0  9157k      0  0:00:05  0:00:05 --:--:-- 34.5M\n"
          ]
        }
      ],
      "source": [
        "%sh curl -Lb /tmp/gcokie \"https://drive.google.com/uc?export=download&id=1APm8CqNE0iGvtEtKWW8jl6PUWTwm-had\" -o \"/tmp/abcnews-date-text.csv\""
      ]
    },
    {
      "cell_type": "code",
      "execution_count": null,
      "metadata": {
        "application/vnd.databricks.v1+cell": {
          "cellMetadata": {
            "byteLimit": 2048000,
            "rowLimit": 10000
          },
          "inputWidgets": {},
          "nuid": "277507f3-50e3-42a3-9187-dcca0587cf8d",
          "showTitle": false,
          "tableResultSettingsMap": {},
          "title": ""
        },
        "id": "SkVtvYlU91R0",
        "outputId": "05c8eccc-c092-4f58-907f-268df25e1adb"
      },
      "outputs": [
        {
          "output_type": "display_data",
          "data": {
            "text/html": [
              "<style scoped>\n",
              "  .table-result-container {\n",
              "    max-height: 300px;\n",
              "    overflow: auto;\n",
              "  }\n",
              "  table, th, td {\n",
              "    border: 1px solid black;\n",
              "    border-collapse: collapse;\n",
              "  }\n",
              "  th, td {\n",
              "    padding: 5px;\n",
              "  }\n",
              "  th {\n",
              "    text-align: left;\n",
              "  }\n",
              "</style><div class='table-result-container'><table class='table-result'><thead style='background-color: white'><tr><th>path</th><th>name</th><th>size</th><th>modificationTime</th></tr></thead><tbody><tr><td>file:/tmp/hsperfdata_root/</td><td>hsperfdata_root/</td><td>4096</td><td>1702265803489</td></tr><tr><td>file:/tmp/chauffeur-daemon.pid</td><td>chauffeur-daemon.pid</td><td>4</td><td>1702265787285</td></tr><tr><td>file:/tmp/chauffeur-daemon-params</td><td>chauffeur-daemon-params</td><td>22</td><td>1702265787113</td></tr><tr><td>file:/tmp/.ICE-unix/</td><td>.ICE-unix/</td><td>4096</td><td>1702265778373</td></tr><tr><td>file:/tmp/driver-env.sh</td><td>driver-env.sh</td><td>3321</td><td>1702265800725</td></tr><tr><td>file:/tmp/.XIM-unix/</td><td>.XIM-unix/</td><td>4096</td><td>1702265778373</td></tr><tr><td>file:/tmp/systemd-private-780f26eb614449dbad5495ec22c61bcd-ntp.service-BPtcfi/</td><td>systemd-private-780f26eb614449dbad5495ec22c61bcd-ntp.service-BPtcfi/</td><td>4096</td><td>1702265778457</td></tr><tr><td>file:/tmp/python_lsp_logs/</td><td>python_lsp_logs/</td><td>4096</td><td>1702265885214</td></tr><tr><td>file:/tmp/custom-spark.conf</td><td>custom-spark.conf</td><td>727</td><td>1702265785513</td></tr><tr><td>file:/tmp/abcnews-date-text.csv</td><td>abcnews-date-text.csv</td><td>54763207</td><td>1702266260196</td></tr><tr><td>file:/tmp/driver-daemon-params</td><td>driver-daemon-params</td><td>19</td><td>1702265803273</td></tr><tr><td>file:/tmp/.Test-unix/</td><td>.Test-unix/</td><td>4096</td><td>1702265778373</td></tr><tr><td>file:/tmp/systemd-private-780f26eb614449dbad5495ec22c61bcd-systemd-logind.service-lABfoi/</td><td>systemd-private-780f26eb614449dbad5495ec22c61bcd-systemd-logind.service-lABfoi/</td><td>4096</td><td>1702265778489</td></tr><tr><td>file:/tmp/chauffeur-env.sh</td><td>chauffeur-env.sh</td><td>156</td><td>1702265785453</td></tr><tr><td>file:/tmp/driver-daemon.pid</td><td>driver-daemon.pid</td><td>4</td><td>1702265803457</td></tr><tr><td>file:/tmp/tmp.yCkN2ewlE9</td><td>tmp.yCkN2ewlE9</td><td>0</td><td>1702265787253</td></tr><tr><td>file:/tmp/Rserv/</td><td>Rserv/</td><td>4096</td><td>1702265894734</td></tr><tr><td>file:/tmp/.font-unix/</td><td>.font-unix/</td><td>4096</td><td>1702265778373</td></tr><tr><td>file:/tmp/systemd-private-780f26eb614449dbad5495ec22c61bcd-systemd-resolved.service-99AWij/</td><td>systemd-private-780f26eb614449dbad5495ec22c61bcd-systemd-resolved.service-99AWij/</td><td>4096</td><td>1702265778381</td></tr><tr><td>file:/tmp/.X11-unix/</td><td>.X11-unix/</td><td>4096</td><td>1702265778373</td></tr><tr><td>file:/tmp/RtmpIkaYqR/</td><td>RtmpIkaYqR/</td><td>4096</td><td>1702266154559</td></tr><tr><td>file:/tmp/systemd-private-780f26eb614449dbad5495ec22c61bcd-apache2.service-kgysOi/</td><td>systemd-private-780f26eb614449dbad5495ec22c61bcd-apache2.service-kgysOi/</td><td>4096</td><td>1702265789933</td></tr></tbody></table></div>"
            ]
          },
          "metadata": {
            "application/vnd.databricks.v1+output": {
              "addedWidgets": {},
              "aggData": [],
              "aggError": "",
              "aggOverflow": false,
              "aggSchema": [],
              "aggSeriesLimitReached": false,
              "aggType": "",
              "arguments": {},
              "columnCustomDisplayInfos": {},
              "data": [
                [
                  "file:/tmp/hsperfdata_root/",
                  "hsperfdata_root/",
                  4096,
                  1702265803489
                ],
                [
                  "file:/tmp/chauffeur-daemon.pid",
                  "chauffeur-daemon.pid",
                  4,
                  1702265787285
                ],
                [
                  "file:/tmp/chauffeur-daemon-params",
                  "chauffeur-daemon-params",
                  22,
                  1702265787113
                ],
                [
                  "file:/tmp/.ICE-unix/",
                  ".ICE-unix/",
                  4096,
                  1702265778373
                ],
                [
                  "file:/tmp/driver-env.sh",
                  "driver-env.sh",
                  3321,
                  1702265800725
                ],
                [
                  "file:/tmp/.XIM-unix/",
                  ".XIM-unix/",
                  4096,
                  1702265778373
                ],
                [
                  "file:/tmp/systemd-private-780f26eb614449dbad5495ec22c61bcd-ntp.service-BPtcfi/",
                  "systemd-private-780f26eb614449dbad5495ec22c61bcd-ntp.service-BPtcfi/",
                  4096,
                  1702265778457
                ],
                [
                  "file:/tmp/python_lsp_logs/",
                  "python_lsp_logs/",
                  4096,
                  1702265885214
                ],
                [
                  "file:/tmp/custom-spark.conf",
                  "custom-spark.conf",
                  727,
                  1702265785513
                ],
                [
                  "file:/tmp/abcnews-date-text.csv",
                  "abcnews-date-text.csv",
                  54763207,
                  1702266260196
                ],
                [
                  "file:/tmp/driver-daemon-params",
                  "driver-daemon-params",
                  19,
                  1702265803273
                ],
                [
                  "file:/tmp/.Test-unix/",
                  ".Test-unix/",
                  4096,
                  1702265778373
                ],
                [
                  "file:/tmp/systemd-private-780f26eb614449dbad5495ec22c61bcd-systemd-logind.service-lABfoi/",
                  "systemd-private-780f26eb614449dbad5495ec22c61bcd-systemd-logind.service-lABfoi/",
                  4096,
                  1702265778489
                ],
                [
                  "file:/tmp/chauffeur-env.sh",
                  "chauffeur-env.sh",
                  156,
                  1702265785453
                ],
                [
                  "file:/tmp/driver-daemon.pid",
                  "driver-daemon.pid",
                  4,
                  1702265803457
                ],
                [
                  "file:/tmp/tmp.yCkN2ewlE9",
                  "tmp.yCkN2ewlE9",
                  0,
                  1702265787253
                ],
                [
                  "file:/tmp/Rserv/",
                  "Rserv/",
                  4096,
                  1702265894734
                ],
                [
                  "file:/tmp/.font-unix/",
                  ".font-unix/",
                  4096,
                  1702265778373
                ],
                [
                  "file:/tmp/systemd-private-780f26eb614449dbad5495ec22c61bcd-systemd-resolved.service-99AWij/",
                  "systemd-private-780f26eb614449dbad5495ec22c61bcd-systemd-resolved.service-99AWij/",
                  4096,
                  1702265778381
                ],
                [
                  "file:/tmp/.X11-unix/",
                  ".X11-unix/",
                  4096,
                  1702265778373
                ],
                [
                  "file:/tmp/RtmpIkaYqR/",
                  "RtmpIkaYqR/",
                  4096,
                  1702266154559
                ],
                [
                  "file:/tmp/systemd-private-780f26eb614449dbad5495ec22c61bcd-apache2.service-kgysOi/",
                  "systemd-private-780f26eb614449dbad5495ec22c61bcd-apache2.service-kgysOi/",
                  4096,
                  1702265789933
                ]
              ],
              "datasetInfos": [],
              "dbfsResultPath": null,
              "isJsonSchema": true,
              "metadata": {
                "isDbfsCommandResult": false
              },
              "overflow": false,
              "plotOptions": {
                "customPlotOptions": {},
                "displayType": "table",
                "pivotAggregation": null,
                "pivotColumns": null,
                "xColumns": null,
                "yColumns": null
              },
              "removedWidgets": [],
              "schema": [
                {
                  "metadata": "{}",
                  "name": "path",
                  "type": "\"string\""
                },
                {
                  "metadata": "{}",
                  "name": "name",
                  "type": "\"string\""
                },
                {
                  "metadata": "{}",
                  "name": "size",
                  "type": "\"long\""
                },
                {
                  "metadata": "{}",
                  "name": "modificationTime",
                  "type": "\"long\""
                }
              ],
              "type": "table"
            }
          }
        }
      ],
      "source": [
        "%fs ls file:/tmp/"
      ]
    },
    {
      "cell_type": "markdown",
      "metadata": {
        "application/vnd.databricks.v1+cell": {
          "cellMetadata": {
            "byteLimit": 2048000,
            "rowLimit": 10000
          },
          "inputWidgets": {},
          "nuid": "e7a87943-8ae0-47f0-8224-f699e90778fb",
          "showTitle": false,
          "tableResultSettingsMap": {},
          "title": ""
        },
        "id": "_LlwuOMd91R1"
      },
      "source": [
        "#####Dosyayı yerel sürücü düğümünün dosya sisteminden DBFS'ye taşıyın"
      ]
    },
    {
      "cell_type": "code",
      "execution_count": null,
      "metadata": {
        "application/vnd.databricks.v1+cell": {
          "cellMetadata": {
            "byteLimit": 2048000,
            "rowLimit": 10000
          },
          "inputWidgets": {},
          "nuid": "02dd890c-4ac9-45ee-a09f-6d9e24a50605",
          "showTitle": false,
          "tableResultSettingsMap": {},
          "title": ""
        },
        "id": "4mKCimNm91R1",
        "outputId": "425e9837-3741-4fa4-ad4c-31a0fbfed185"
      },
      "outputs": [
        {
          "output_type": "stream",
          "name": "stdout",
          "text": [
            "Out[3]: True"
          ]
        }
      ],
      "source": [
        "dbutils.fs.mv(\"file:/tmp/abcnews-date-text.csv\", \"dbfs:/datasets/abcnews-date-text.csv\")"
      ]
    },
    {
      "cell_type": "code",
      "execution_count": null,
      "metadata": {
        "application/vnd.databricks.v1+cell": {
          "cellMetadata": {
            "byteLimit": 2048000,
            "rowLimit": 10000
          },
          "inputWidgets": {},
          "nuid": "20165b54-9a16-4d7b-b07d-ccd7dc7c0266",
          "showTitle": false,
          "tableResultSettingsMap": {},
          "title": ""
        },
        "id": "2SCeYwhY91R1",
        "outputId": "1249ae2d-ea62-4c14-aa92-f9b37886a1fc"
      },
      "outputs": [
        {
          "output_type": "display_data",
          "data": {
            "text/html": [
              "<style scoped>\n",
              "  .table-result-container {\n",
              "    max-height: 300px;\n",
              "    overflow: auto;\n",
              "  }\n",
              "  table, th, td {\n",
              "    border: 1px solid black;\n",
              "    border-collapse: collapse;\n",
              "  }\n",
              "  th, td {\n",
              "    padding: 5px;\n",
              "  }\n",
              "  th {\n",
              "    text-align: left;\n",
              "  }\n",
              "</style><div class='table-result-container'><table class='table-result'><thead style='background-color: white'><tr><th>path</th><th>name</th><th>size</th><th>modificationTime</th></tr></thead><tbody><tr><td>dbfs:/datasets/abcnews-date-text.csv</td><td>abcnews-date-text.csv</td><td>54763207</td><td>1702266265000</td></tr><tr><td>dbfs:/datasets/songsDataset.csv</td><td>songsDataset.csv</td><td>15856091</td><td>1682176681000</td></tr></tbody></table></div>"
            ]
          },
          "metadata": {
            "application/vnd.databricks.v1+output": {
              "addedWidgets": {},
              "aggData": [],
              "aggError": "",
              "aggOverflow": false,
              "aggSchema": [],
              "aggSeriesLimitReached": false,
              "aggType": "",
              "arguments": {},
              "columnCustomDisplayInfos": {},
              "data": [
                [
                  "dbfs:/datasets/abcnews-date-text.csv",
                  "abcnews-date-text.csv",
                  54763207,
                  1702266265000
                ],
                [
                  "dbfs:/datasets/songsDataset.csv",
                  "songsDataset.csv",
                  15856091,
                  1682176681000
                ]
              ],
              "datasetInfos": [],
              "dbfsResultPath": null,
              "isJsonSchema": true,
              "metadata": {
                "isDbfsCommandResult": false
              },
              "overflow": false,
              "plotOptions": {
                "customPlotOptions": {},
                "displayType": "table",
                "pivotAggregation": null,
                "pivotColumns": null,
                "xColumns": null,
                "yColumns": null
              },
              "removedWidgets": [],
              "schema": [
                {
                  "metadata": "{}",
                  "name": "path",
                  "type": "\"string\""
                },
                {
                  "metadata": "{}",
                  "name": "name",
                  "type": "\"string\""
                },
                {
                  "metadata": "{}",
                  "name": "size",
                  "type": "\"long\""
                },
                {
                  "metadata": "{}",
                  "name": "modificationTime",
                  "type": "\"long\""
                }
              ],
              "type": "table"
            }
          }
        }
      ],
      "source": [
        "%fs ls /datasets/"
      ]
    },
    {
      "cell_type": "markdown",
      "metadata": {
        "application/vnd.databricks.v1+cell": {
          "cellMetadata": {
            "byteLimit": 2048000,
            "rowLimit": 10000
          },
          "inputWidgets": {},
          "nuid": "38e8ec5f-3a65-408d-be73-c87d97d00731",
          "showTitle": false,
          "tableResultSettingsMap": {},
          "title": ""
        },
        "id": "2b6qCogK91R2"
      },
      "source": [
        "#####Veri kümesi dosyasını bir Spark Dataframe'i olarak okuyun"
      ]
    },
    {
      "cell_type": "code",
      "execution_count": null,
      "metadata": {
        "application/vnd.databricks.v1+cell": {
          "cellMetadata": {
            "byteLimit": 2048000,
            "rowLimit": 10000
          },
          "inputWidgets": {},
          "nuid": "8060f77e-e196-4c79-9e84-1c7901ba8e19",
          "showTitle": false,
          "tableResultSettingsMap": {},
          "title": ""
        },
        "id": "8Yu_594p91R2"
      },
      "outputs": [],
      "source": [
        "news_df = spark.read.load(\"dbfs:/datasets/abcnews-date-text.csv\",\n",
        "                         format=\"csv\",\n",
        "                         sep=\",\",\n",
        "                         inferSchema=\"true\",\n",
        "                         header=\"true\"\n",
        "                         )"
      ]
    },
    {
      "cell_type": "markdown",
      "metadata": {
        "application/vnd.databricks.v1+cell": {
          "cellMetadata": {
            "byteLimit": 2048000,
            "rowLimit": 10000
          },
          "inputWidgets": {},
          "nuid": "533d8467-29cb-4744-b981-d43f9d79d4ea",
          "showTitle": false,
          "tableResultSettingsMap": {},
          "title": ""
        },
        "id": "kwzOq67691R2"
      },
      "source": [
        "#####Yüklenen veri kümesinin satır ve sütun sayısını kontrol edin"
      ]
    },
    {
      "cell_type": "code",
      "execution_count": null,
      "metadata": {
        "application/vnd.databricks.v1+cell": {
          "cellMetadata": {
            "byteLimit": 2048000,
            "rowLimit": 10000
          },
          "inputWidgets": {},
          "nuid": "a7157afb-b87a-4792-86e0-43847c59c61f",
          "showTitle": false,
          "tableResultSettingsMap": {},
          "title": ""
        },
        "id": "swUznKqB91R2",
        "outputId": "7d59e030-083e-43f1-bee2-8e58baf0921b"
      },
      "outputs": [
        {
          "output_type": "stream",
          "name": "stdout",
          "text": [
            "The shape of the dataset is 1093281 rows by 2 columns\n"
          ]
        }
      ],
      "source": [
        "print(\"The shape of the dataset is {:d} rows by {:d} columns\".format(news_df.count(), len(news_df.columns)))"
      ]
    },
    {
      "cell_type": "markdown",
      "metadata": {
        "application/vnd.databricks.v1+cell": {
          "cellMetadata": {
            "byteLimit": 2048000,
            "rowLimit": 10000
          },
          "inputWidgets": {},
          "nuid": "6d041799-6e09-473e-90e2-84ca8badafb0",
          "showTitle": false,
          "tableResultSettingsMap": {},
          "title": ""
        },
        "id": "IT9Eoily91R3"
      },
      "source": [
        "#####Yüklenen veri kümesinin şemasını yazdırın"
      ]
    },
    {
      "cell_type": "code",
      "execution_count": null,
      "metadata": {
        "application/vnd.databricks.v1+cell": {
          "cellMetadata": {
            "byteLimit": 2048000,
            "rowLimit": 10000
          },
          "inputWidgets": {},
          "nuid": "e11925d7-6903-4e2a-b1d3-caf2495943d3",
          "showTitle": false,
          "tableResultSettingsMap": {},
          "title": ""
        },
        "id": "iKIJbANZ91R3",
        "outputId": "003c4535-d8a6-4218-fdbc-2a8e7e69014a"
      },
      "outputs": [
        {
          "output_type": "stream",
          "name": "stdout",
          "text": [
            "root\n |-- publish_date: integer (nullable = true)\n |-- headline_text: string (nullable = true)\n\n"
          ]
        }
      ],
      "source": [
        "news_df.printSchema()"
      ]
    },
    {
      "cell_type": "markdown",
      "metadata": {
        "application/vnd.databricks.v1+cell": {
          "cellMetadata": {
            "byteLimit": 2048000,
            "rowLimit": 10000
          },
          "inputWidgets": {},
          "nuid": "1fc82720-20ec-4e78-ac07-024d277f19b6",
          "showTitle": false,
          "tableResultSettingsMap": {},
          "title": ""
        },
        "id": "OUUb-oFw91R3"
      },
      "source": [
        "#####Veri kümesinin ilk 5 satırını görüntüleme"
      ]
    },
    {
      "cell_type": "code",
      "execution_count": null,
      "metadata": {
        "application/vnd.databricks.v1+cell": {
          "cellMetadata": {
            "byteLimit": 2048000,
            "rowLimit": 10000
          },
          "inputWidgets": {},
          "nuid": "59e60efb-6b74-45ea-beb5-14f7fda90a6b",
          "showTitle": false,
          "tableResultSettingsMap": {},
          "title": ""
        },
        "id": "XQoYnY3c91R3",
        "outputId": "107b2f45-bdbc-42ac-953f-1f839c04d0b6"
      },
      "outputs": [
        {
          "output_type": "stream",
          "name": "stdout",
          "text": [
            "+------------+--------------------------------------------------+\n|publish_date|headline_text                                     |\n+------------+--------------------------------------------------+\n|20030219    |aba decides against community broadcasting licence|\n|20030219    |act fire witnesses must be aware of defamation    |\n|20030219    |a g calls for infrastructure protection summit    |\n|20030219    |air nz staff in aust strike for pay rise          |\n|20030219    |air nz strike to affect australian travellers     |\n+------------+--------------------------------------------------+\nonly showing top 5 rows\n\n"
          ]
        }
      ],
      "source": [
        "news_df.show(5, truncate=False)"
      ]
    },
    {
      "cell_type": "markdown",
      "metadata": {
        "application/vnd.databricks.v1+cell": {
          "cellMetadata": {
            "byteLimit": 2048000,
            "rowLimit": 10000
          },
          "inputWidgets": {},
          "nuid": "28bd9b74-d3d9-4d67-b8ef-3ced0fa0dc8c",
          "showTitle": false,
          "tableResultSettingsMap": {},
          "title": ""
        },
        "id": "dHsfPqp291R3"
      },
      "source": [
        "##### Yinelenen haberlerin sayısını (varsa) hesaplama"
      ]
    },
    {
      "cell_type": "code",
      "execution_count": null,
      "metadata": {
        "application/vnd.databricks.v1+cell": {
          "cellMetadata": {
            "byteLimit": 2048000,
            "rowLimit": 10000
          },
          "inputWidgets": {},
          "nuid": "aa7c7021-26b6-49d7-a9f2-e3ef1df47012",
          "showTitle": false,
          "tableResultSettingsMap": {},
          "title": ""
        },
        "id": "dt1fmTGX91R3",
        "outputId": "2006dd17-cbda-40ab-b83a-b2a26392f66c"
      },
      "outputs": [
        {
          "output_type": "stream",
          "name": "stdout",
          "text": [
            "The total number of duplicated news are 27320 out of 1093281\n"
          ]
        }
      ],
      "source": [
        "print(\"The total number of duplicated news are {:d} out of {:d}\".\n",
        "      format(news_df.count() - news_df.dropDuplicates(['headline_text']).count(), news_df.count()))"
      ]
    },
    {
      "cell_type": "markdown",
      "metadata": {
        "application/vnd.databricks.v1+cell": {
          "cellMetadata": {
            "byteLimit": 2048000,
            "rowLimit": 10000
          },
          "inputWidgets": {},
          "nuid": "9bc9a57b-45fb-4180-956c-ff9c2b117d63",
          "showTitle": false,
          "tableResultSettingsMap": {},
          "title": ""
        },
        "id": "7fczszD391R4"
      },
      "source": [
        "##### En çok tekrar eden ilk 10 haberi görüntüleyin"
      ]
    },
    {
      "cell_type": "code",
      "execution_count": null,
      "metadata": {
        "application/vnd.databricks.v1+cell": {
          "cellMetadata": {
            "byteLimit": 2048000,
            "rowLimit": 10000
          },
          "inputWidgets": {},
          "nuid": "1831394d-1a3b-44e0-ae78-8089844cc759",
          "showTitle": false,
          "tableResultSettingsMap": {},
          "title": ""
        },
        "id": "fWoF_Ts091R4",
        "outputId": "2cfbabf0-88a8-4d7c-9ea3-c28b57677f7b"
      },
      "outputs": [
        {
          "output_type": "stream",
          "name": "stdout",
          "text": [
            "+--------------------+-----+\n|       headline_text|count|\n+--------------------+-----+\n|           abc sport|  755|\n|         abc weather|  736|\n| national rural news|  648|\n|abc business news...|  588|\n|          closer am1|  315|\n|   abc entertainment|  315|\n|          closer pm1|  307|\n|abc entertainment...|  240|\n|       kohler report|  206|\n|           closer pm|  200|\n+--------------------+-----+\nonly showing top 10 rows\n\n"
          ]
        }
      ],
      "source": [
        "news_df.groupby([\"headline_text\"]).count().sort(\"count\", ascending=False).show(10)"
      ]
    },
    {
      "cell_type": "markdown",
      "metadata": {
        "application/vnd.databricks.v1+cell": {
          "cellMetadata": {
            "byteLimit": 2048000,
            "rowLimit": 10000
          },
          "inputWidgets": {},
          "nuid": "cb7bf446-a652-42b6-bf2c-7676e4ffe15b",
          "showTitle": false,
          "tableResultSettingsMap": {},
          "title": ""
        },
        "id": "OComMnMt91R4"
      },
      "source": [
        "##### Yinelenen haberleri kaldırma"
      ]
    },
    {
      "cell_type": "code",
      "execution_count": null,
      "metadata": {
        "application/vnd.databricks.v1+cell": {
          "cellMetadata": {
            "byteLimit": 2048000,
            "rowLimit": 10000
          },
          "inputWidgets": {},
          "nuid": "82510150-299d-4b17-8647-6971ab1e674b",
          "showTitle": false,
          "tableResultSettingsMap": {},
          "title": ""
        },
        "id": "LcVvWQP-91R4"
      },
      "outputs": [],
      "source": [
        "news_df = news_df.dropDuplicates([\"headline_text\"])"
      ]
    },
    {
      "cell_type": "code",
      "execution_count": null,
      "metadata": {
        "application/vnd.databricks.v1+cell": {
          "cellMetadata": {
            "byteLimit": 2048000,
            "rowLimit": 10000
          },
          "inputWidgets": {},
          "nuid": "3f9bdf83-dad2-4923-bb03-9fa8eced380f",
          "showTitle": false,
          "tableResultSettingsMap": {},
          "title": ""
        },
        "id": "byM5O4XH91R4",
        "outputId": "c5da6b4c-7e61-42da-9965-ba8e24309417"
      },
      "outputs": [
        {
          "output_type": "stream",
          "name": "stdout",
          "text": [
            "The total number of unique news is: 1065961\n"
          ]
        }
      ],
      "source": [
        "print(\"The total number of unique news is: {:d}\".format(news_df.count()))"
      ]
    },
    {
      "cell_type": "markdown",
      "metadata": {
        "application/vnd.databricks.v1+cell": {
          "cellMetadata": {
            "byteLimit": 2048000,
            "rowLimit": 10000
          },
          "inputWidgets": {},
          "nuid": "a76c7bfd-ea90-496a-b7b7-4866a1a3679b",
          "showTitle": false,
          "tableResultSettingsMap": {},
          "title": ""
        },
        "id": "4y-vEV8X91R4"
      },
      "source": [
        "##### Headline_text sütunu boyunca herhangi bir eksik değer (NULL) olup olmadığını kontrol etme"
      ]
    },
    {
      "cell_type": "code",
      "execution_count": null,
      "metadata": {
        "application/vnd.databricks.v1+cell": {
          "cellMetadata": {
            "byteLimit": 2048000,
            "rowLimit": 10000
          },
          "inputWidgets": {},
          "nuid": "7c3d4892-2b50-47ba-8df9-c6764a9f74a5",
          "showTitle": false,
          "tableResultSettingsMap": {},
          "title": ""
        },
        "id": "d0WKuVnY91R4",
        "outputId": "73244e57-0012-4b68-a3ab-d24386528381"
      },
      "outputs": [
        {
          "output_type": "stream",
          "name": "stdout",
          "text": [
            "Out[12]: 0"
          ]
        }
      ],
      "source": [
        "news_df.where(col(\"headline_text\").isNull()).count()\n",
        "# Alternatively, using filter:\n",
        "# news_df.filter(news_df.headline_text.isNull()).count()"
      ]
    },
    {
      "cell_type": "markdown",
      "metadata": {
        "application/vnd.databricks.v1+cell": {
          "cellMetadata": {
            "byteLimit": 2048000,
            "rowLimit": 10000
          },
          "inputWidgets": {},
          "nuid": "e6afa482-7902-4beb-8194-8b6f4f182755",
          "showTitle": false,
          "tableResultSettingsMap": {},
          "title": ""
        },
        "id": "JC3xkAnb91R5"
      },
      "source": [
        "### 2. Veri Ön İşleme"
      ]
    },
    {
      "cell_type": "markdown",
      "metadata": {
        "application/vnd.databricks.v1+cell": {
          "cellMetadata": {
            "byteLimit": 2048000,
            "rowLimit": 10000
          },
          "inputWidgets": {},
          "nuid": "29f4201f-0e83-4f2c-9092-e031e91c215c",
          "showTitle": false,
          "tableResultSettingsMap": {},
          "title": ""
        },
        "id": "QPAciUVg91R5"
      },
      "source": [
        "Bu örnekte, metin verileriyle çalışıyoruz ve nihai hedefimiz, bildiğimiz kümeleme algoritmalarından birini (örneğin, K-means) kullanarak haberleri tutarlı \"konu\" gruplarına ayırmaktır. Bu, doğal dil işleme (NLP) olarak adlandırılan daha genel bir alanın özel bir problemidir."
      ]
    },
    {
      "cell_type": "markdown",
      "metadata": {
        "application/vnd.databricks.v1+cell": {
          "cellMetadata": {
            "byteLimit": 2048000,
            "rowLimit": 10000
          },
          "inputWidgets": {},
          "nuid": "367b594d-99ab-4cc3-b033-65c59d590e93",
          "showTitle": false,
          "tableResultSettingsMap": {},
          "title": ""
        },
        "id": "tRqg1mv591R5"
      },
      "source": [
        "\n",
        "###### Herhangi bir NLP görevinin ön adımları olarak, önce en azından aşağıdaki ardışık düzen yürütülmelidir:\n",
        "\n",
        "<br>\n",
        "\n",
        "- Metin temizleme:\n",
        " - Büyük/küçük harf normalleştirme (<code>lower</code>) -> tüm metni küçük harfe çevir;\n",
        " - Baştaki ve sondaki boşluklarını filtreleyin (<code>trim</code>);\n",
        " - Noktalama işaretlerini filtreleyin (<code>regexp_replace</code>);\n",
        " - Yukarıdaki adımdan kaynaklanan dahili fazladan boşlukları filtreleyin (<code>regexp_replace</code> + <code>trim</code>).\n",
        "- Belirteçleştirme (<code>Tokenizer</code>): genellikle sınırlayıcı olarak boşluk kullanarak, ham metni tek tek _belirteçler_ (yani kelimeler) listesine bölme\n",
        "- Gereksiz kelimelerin kaldırılması (<code>StopWordsRemover</code>): _stopwords_ denilen, yani ingilizcede \"the\", \"a\", \"me\" gibi metnin derin anlamına katkıda bulunmayan kelimelerin kaldırılması.\n",
        "- Stemming (<code>SnowballStemmer</code>): Her kelimeyi köküne veya tabanına indirgeme. Örneğin, \"balıkçılık\", \"balıklar\", \"balıkçı\", hepsi \"balık\" köküne indirgenir."
      ]
    },
    {
      "cell_type": "code",
      "execution_count": null,
      "metadata": {
        "application/vnd.databricks.v1+cell": {
          "cellMetadata": {
            "byteLimit": 2048000,
            "rowLimit": 10000
          },
          "inputWidgets": {},
          "nuid": "77e7c18d-2448-48e4-9101-b00d7d053200",
          "showTitle": false,
          "tableResultSettingsMap": {},
          "title": ""
        },
        "id": "FOXjQfWW91R5"
      },
      "outputs": [],
      "source": [
        "def clean_text(df, column_name=\"headline_text\"):\n",
        "    \"\"\"\n",
        "    This function takes the raw text data and applies a standard NLP preprocessing pipeline consisting of the following steps:\n",
        "      - Text cleaning\n",
        "      - Tokenization\n",
        "      - Stopwords removal\n",
        "      - Stemming (Snowball stemmer)\n",
        "\n",
        "    parameter: dataframe\n",
        "    returns: the input dataframe along with the `cleaned_content` column as the results of the NLP preprocessing pipeline\n",
        "\n",
        "    \"\"\"\n",
        "    from pyspark.sql.functions import udf, col, lower, trim, regexp_replace\n",
        "    from pyspark.ml.feature import Tokenizer, StopWordsRemover\n",
        "    from nltk.stem.snowball import SnowballStemmer # BE SURE NLTK IS INSTALLED ON THE CLUSTER USING THE \"LIBRARIES\" TAB IN THE MENU\n",
        "\n",
        "    # Text preprocessing pipeline\n",
        "    print(\"***** Text Preprocessing Pipeline *****\\n\")\n",
        "\n",
        "    # 1. Text cleaning\n",
        "    print(\"# 1. Text Cleaning\\n\")\n",
        "    # 1.a Case normalization\n",
        "    print(\"1.a Case normalization:\")\n",
        "    lower_case_news_df = df.select(lower(col(column_name)).alias(column_name))\n",
        "    lower_case_news_df.show(10)\n",
        "    # 1.b Trimming\n",
        "    print(\"1.b Trimming:\")\n",
        "    trimmed_news_df = lower_case_news_df.select(trim(col(column_name)).alias(column_name))\n",
        "    trimmed_news_df.show(10)\n",
        "    # 1.c Filter out punctuation symbols\n",
        "    print(\"1.c Filter out punctuation:\")\n",
        "    no_punct_news_df = trimmed_news_df.select((regexp_replace(col(column_name), \"[^a-zA-Z\\\\s]\", \"\")).alias(column_name))\n",
        "    no_punct_news_df.show(10)\n",
        "    # 1.d Filter out any internal extra whitespace\n",
        "    print(\"1.d Filter out extra whitespaces:\")\n",
        "    cleaned_news_df = no_punct_news_df.select(trim(regexp_replace(col(column_name), \" +\", \" \")).alias(column_name))\n",
        "    cleaned_news_df.show(10)\n",
        "\n",
        "    # 2. Tokenization (split text into tokens)\n",
        "    print(\"# 2. Tokenization:\")\n",
        "    tokenizer = Tokenizer(inputCol=column_name, outputCol=\"tokens\")\n",
        "    tokens_df = tokenizer.transform(cleaned_news_df).cache()\n",
        "    tokens_df.show(10)\n",
        "\n",
        "    # 3. Stopwords removal\n",
        "    print(\"# 3. Stopwords removal:\")\n",
        "    stopwords_remover = StopWordsRemover(inputCol=\"tokens\", outputCol=\"terms\")\n",
        "    terms_df = stopwords_remover.transform(tokens_df).cache()\n",
        "    terms_df.show(10)\n",
        "\n",
        "    # 4. Stemming (Snowball stemmer)\n",
        "    print(\"# 4. Stemming:\")\n",
        "    stemmer = SnowballStemmer(language=\"english\")\n",
        "    stemmer_udf = udf(lambda tokens: [stemmer.stem(token) for token in tokens], ArrayType(StringType()))\n",
        "    terms_stemmed_df = terms_df.withColumn(\"terms_stemmed\", stemmer_udf(\"terms\")).cache()\n",
        "    terms_stemmed_df.show(10)\n",
        "\n",
        "    return terms_stemmed_df"
      ]
    },
    {
      "cell_type": "code",
      "execution_count": null,
      "metadata": {
        "application/vnd.databricks.v1+cell": {
          "cellMetadata": {
            "byteLimit": 2048000,
            "rowLimit": 10000
          },
          "inputWidgets": {},
          "nuid": "bf33e4b0-1e13-4d47-a425-c70f816d9125",
          "showTitle": false,
          "tableResultSettingsMap": {},
          "title": ""
        },
        "id": "8ddrgpKO91R5",
        "outputId": "d1feb71e-8972-4cd2-c3d0-bce4a472051b"
      },
      "outputs": [
        {
          "output_type": "stream",
          "name": "stdout",
          "text": [
            "***** Text Preprocessing Pipeline *****\n\n# 1. Text Cleaning\n\n1.a Case normalization:\n+--------------------+\n|       headline_text|\n+--------------------+\n|ambitious olsson ...|\n|a g calls for inf...|\n|antic delighted w...|\n|aba decides again...|\n|act fire witnesse...|\n|aust addresses un...|\n|aussie qualifier ...|\n|air nz staff in a...|\n|australia is lock...|\n|air nz strike to ...|\n+--------------------+\nonly showing top 10 rows\n\n1.b Trimming:\n+--------------------+\n|       headline_text|\n+--------------------+\n|ambitious olsson ...|\n|a g calls for inf...|\n|antic delighted w...|\n|aba decides again...|\n|act fire witnesse...|\n|aust addresses un...|\n|aussie qualifier ...|\n|air nz staff in a...|\n|australia is lock...|\n|air nz strike to ...|\n+--------------------+\nonly showing top 10 rows\n\n1.c Filter out punctuation:\n+--------------------+\n|       headline_text|\n+--------------------+\n|ambitious olsson ...|\n|a g calls for inf...|\n|antic delighted w...|\n|aba decides again...|\n|act fire witnesse...|\n|aust addresses un...|\n|aussie qualifier ...|\n|air nz staff in a...|\n|australia is lock...|\n|air nz strike to ...|\n+--------------------+\nonly showing top 10 rows\n\n1.d Filter out extra whitespaces:\n+--------------------+\n|       headline_text|\n+--------------------+\n|ambitious olsson ...|\n|a g calls for inf...|\n|antic delighted w...|\n|aba decides again...|\n|act fire witnesse...|\n|aust addresses un...|\n|aussie qualifier ...|\n|air nz staff in a...|\n|australia is lock...|\n|air nz strike to ...|\n+--------------------+\nonly showing top 10 rows\n\n# 2. Tokenization:\n+--------------------+--------------------+\n|       headline_text|              tokens|\n+--------------------+--------------------+\n|heavy metal depos...|[heavy, metal, de...|\n|planning for inte...|[planning, for, i...|\n|blix orders destr...|[blix, orders, de...|\n|wa opp says polic...|[wa, opp, says, p...|\n|forum calls for m...|[forum, calls, fo...|\n|environment centr...|[environment, cen...|\n|man missing after...|[man, missing, af...|\n|gonzalez in the w...|[gonzalez, in, th...|\n|chinese economy f...|[chinese, economy...|\n|un inspectors set...|[un, inspectors, ...|\n+--------------------+--------------------+\nonly showing top 10 rows\n\n# 3. Stopwords removal:\n+--------------------+--------------------+--------------------+\n|       headline_text|              tokens|               terms|\n+--------------------+--------------------+--------------------+\n|heavy metal depos...|[heavy, metal, de...|[heavy, metal, de...|\n|planning for inte...|[planning, for, i...|[planning, inters...|\n|blix orders destr...|[blix, orders, de...|[blix, orders, de...|\n|wa opp says polic...|[wa, opp, says, p...|[wa, opp, says, p...|\n|forum calls for m...|[forum, calls, fo...|[forum, calls, wa...|\n|environment centr...|[environment, cen...|[environment, cen...|\n|man missing after...|[man, missing, af...|[man, missing, ca...|\n|gonzalez in the w...|[gonzalez, in, th...|[gonzalez, wars, ...|\n|chinese economy f...|[chinese, economy...|[chinese, economy...|\n|un inspectors set...|[un, inspectors, ...|[un, inspectors, ...|\n+--------------------+--------------------+--------------------+\nonly showing top 10 rows\n\n# 4. Stemming:\n+--------------------+--------------------+--------------------+--------------------+\n|       headline_text|              tokens|               terms|       terms_stemmed|\n+--------------------+--------------------+--------------------+--------------------+\n|heavy metal depos...|[heavy, metal, de...|[heavy, metal, de...|[heavi, metal, de...|\n|planning for inte...|[planning, for, i...|[planning, inters...|[plan, intersect,...|\n|blix orders destr...|[blix, orders, de...|[blix, orders, de...|[blix, order, des...|\n|wa opp says polic...|[wa, opp, says, p...|[wa, opp, says, p...|[wa, opp, say, po...|\n|forum calls for m...|[forum, calls, fo...|[forum, calls, wa...|[forum, call, wat...|\n|environment centr...|[environment, cen...|[environment, cen...|[environ, centr, ...|\n|man missing after...|[man, missing, af...|[man, missing, ca...|[man, miss, car, ...|\n|gonzalez in the w...|[gonzalez, in, th...|[gonzalez, wars, ...|[gonzalez, war, k...|\n|chinese economy f...|[chinese, economy...|[chinese, economy...|[chines, economi,...|\n|un inspectors set...|[un, inspectors, ...|[un, inspectors, ...|[un, inspector, s...|\n+--------------------+--------------------+--------------------+--------------------+\nonly showing top 10 rows\n\n"
          ]
        }
      ],
      "source": [
        "clean_news_df = clean_text(news_df)"
      ]
    },
    {
      "cell_type": "markdown",
      "metadata": {
        "application/vnd.databricks.v1+cell": {
          "cellMetadata": {
            "byteLimit": 2048000,
            "rowLimit": 10000
          },
          "inputWidgets": {},
          "nuid": "f4bd4808-4dd6-4576-bc45-b08ae978f568",
          "showTitle": false,
          "tableResultSettingsMap": {},
          "title": ""
        },
        "id": "teR4GxSh91R6"
      },
      "source": [
        "### **Feature Engineering**\n",
        "\n",
        "Makine öğrenimi teknikleri doğrudan metin verileri üzerinde çalışamaz; Aslında, kelimeler önce makine öğrenimi algoritmalarının kullanabileceği bazı sayısal temsillere dönüştürülmelidir. Bu süreç genellikle _vektörleştirme_ olarak bilinir.\n",
        "\n",
        "Vektörleştirme açısından, bunun yalnızca tek bir kelimeyi tek bir sayıya dönüştürmek olmadığını hatırlamak önemlidir. Kelimeler sayılara dönüştürülebilirken, bir belgenin tamamı bir vektöre çevrilebilir. Ayrıca, metin verilerinden türetilen vektörler genellikle yüksek boyutludur. Bunun nedeni, özellik uzayının her boyutunun bir kelimeye karşılık gelmesi ve belgelerdeki dilin binlerce kelimeye sahip olabilmesidir."
      ]
    },
    {
      "cell_type": "markdown",
      "metadata": {
        "application/vnd.databricks.v1+cell": {
          "cellMetadata": {
            "byteLimit": 2048000,
            "rowLimit": 10000
          },
          "inputWidgets": {},
          "nuid": "43967b6c-7fb3-4cc7-8a3b-1d4b7aadf896",
          "showTitle": false,
          "tableResultSettingsMap": {},
          "title": ""
        },
        "id": "2NdX9vnB91R6"
      },
      "source": [
        "## TF-IDF\n",
        "Bilgi almada, **tf-idf** - terimin kısaltması frekans-ters belge frekansı - bir kelimenin bir koleksiyondaki veya tümcedeki bir belge için ne kadar önemli olduğunu yansıtması amaçlanan sayısal bir istatistiktir.\n",
        "\n",
        "tf-idf değeri, bir sözcüğün belgede görünme sayısıyla orantılı olarak artar ve bazı sözcüklerin genel olarak daha sık göründüğü gerçeğini düzeltmeye yardımcı olan, tümcedeki sözcüğün sıklığıyla dengelenir."
      ]
    },
    {
      "cell_type": "code",
      "execution_count": null,
      "metadata": {
        "application/vnd.databricks.v1+cell": {
          "cellMetadata": {
            "byteLimit": 2048000,
            "rowLimit": 10000
          },
          "inputWidgets": {},
          "nuid": "06334485-db26-427e-9a13-1a96875d16a2",
          "showTitle": false,
          "tableResultSettingsMap": {},
          "title": ""
        },
        "id": "v8pL7x1U91R6"
      },
      "outputs": [],
      "source": [
        "RANDOM_SEED = 42 # used below to run the actual K-means clustering\n",
        "VOCAB_SIZE = 1000 # number of words to be retained as vocabulary\n",
        "MIN_DOC_FREQ = 10 # minimum number of documents a word has to appear in to be included in the vocabulary\n",
        "N_GRAMS = 2 # number of n-grams (if needed)\n",
        "N_FEATURES = 200 # default embedding vector size (if HashingTF or, later, Word2Vec are used)"
      ]
    },
    {
      "cell_type": "code",
      "execution_count": null,
      "metadata": {
        "application/vnd.databricks.v1+cell": {
          "cellMetadata": {
            "byteLimit": 2048000,
            "rowLimit": 10000
          },
          "inputWidgets": {},
          "nuid": "32cc7b0f-d26e-421b-9233-f263dbcaf6b4",
          "showTitle": false,
          "tableResultSettingsMap": {},
          "title": ""
        },
        "id": "lTfyl7dr91R6"
      },
      "outputs": [],
      "source": [
        "def extract_tfidf_features(df, column_name=\"terms_stemmed\"):\n",
        "    \"\"\"\n",
        "    This fucntion takes the text data and converts it into a term frequency-inverse document frequency vector\n",
        "\n",
        "    parameter: dataframe\n",
        "    returns: dataframe with tf-idf vectors\n",
        "\n",
        "    \"\"\"\n",
        "\n",
        "    # Importing the feature transformation classes for doing TF-IDF\n",
        "    from pyspark.ml.feature import HashingTF, CountVectorizer, IDF, NGram\n",
        "    from pyspark.ml import Pipeline\n",
        "\n",
        "    ## Extracting n-grams from text\n",
        "    #ngrams = NGram(n=N_GRAMS, inputCol=column_name, outputCol=\"ngrams\")\n",
        "    #ngrams.transform(df)\n",
        "\n",
        "    ## Creating Term Frequency Vector for each word\n",
        "    #cv = CountVectorizer(inputCol=column_name, outputCol=\"tf_features\", vocabSize=VOCAB_SIZE, minDF=MIN_DOC_FREQ)\n",
        "    #cv_model = cv.fit(df)\n",
        "    #tf_features_df = cv_model.transform(df).cache()\n",
        "\n",
        "    ## Alternatively to CountVectorizer, use HashingTF\n",
        "    #hashing_TF = HashingTF(inputCol=column_name, outputCol=\"tf_features\", numFeatures=N_FEATURES)\n",
        "    #tf_features_df = hashing_TF.transform(df).cache()\n",
        "\n",
        "    ## Carrying out Inverse Document Frequency on the TF data\n",
        "    #idf = IDF(inputCol=\"tf_features\", outputCol=\"features\")\n",
        "    #idf_model = idf.fit(tf_features_df)\n",
        "    #tf_idf_features_df = idf_model.transform(tf_features_df).cache()\n",
        "\n",
        "    # USING PIPELINE\n",
        "    #ngrams = NGram(n=N_GRAMS, inputCol=column_name, outputCol=\"ngrams\")\n",
        "    cv = CountVectorizer(inputCol=column_name, outputCol=\"tf_features\", vocabSize=VOCAB_SIZE, minDF=MIN_DOC_FREQ)\n",
        "    # hashingTF = HashingTF(inputCol=column_name, outputCol=\"tf_features\", numFeatures=N_FEATURES)\n",
        "    idf = IDF(inputCol=\"tf_features\", outputCol=\"features\")\n",
        "\n",
        "    pipeline = Pipeline(stages=[cv, idf]) # add `ngrams` and replace `cv` with `hashingTF`, if needed\n",
        "    features = pipeline.fit(df)\n",
        "    tf_idf_features_df = features.transform(df).cache()\n",
        "\n",
        "    return tf_idf_features_df"
      ]
    },
    {
      "cell_type": "code",
      "execution_count": null,
      "metadata": {
        "application/vnd.databricks.v1+cell": {
          "cellMetadata": {
            "byteLimit": 2048000,
            "rowLimit": 10000
          },
          "inputWidgets": {},
          "nuid": "81ca3e7f-25ca-4d7f-9d3e-392612f9f7b8",
          "showTitle": false,
          "tableResultSettingsMap": {},
          "title": ""
        },
        "id": "KID10nVN91R6"
      },
      "outputs": [],
      "source": [
        "features = extract_tfidf_features(clean_news_df)"
      ]
    },
    {
      "cell_type": "code",
      "execution_count": null,
      "metadata": {
        "application/vnd.databricks.v1+cell": {
          "cellMetadata": {
            "byteLimit": 2048000,
            "rowLimit": 10000
          },
          "inputWidgets": {},
          "nuid": "63dc4cbc-9681-4de7-9166-44f3346fd1e6",
          "showTitle": false,
          "tableResultSettingsMap": {},
          "title": ""
        },
        "id": "Kqicl-pz91R7",
        "outputId": "01c8d00c-58a0-40e7-91d0-aae50989fd21"
      },
      "outputs": [
        {
          "output_type": "stream",
          "name": "stdout",
          "text": [
            "+-----------------------------------------------------------------------------------------------------------------------+\n|features                                                                                                               |\n+-----------------------------------------------------------------------------------------------------------------------+\n|(1000,[119,237,661],[5.102449590618002,5.518614963648062,6.354827009507638])                                           |\n|(1000,[4,208,772],[3.8823192696353392,5.4334762463817246,6.509787515266589])                                           |\n|(1000,[475,537],[6.058948720530817,6.158926541193276])                                                                 |\n|(1000,[0,3,29,300],[3.4168850753934796,3.789504107309776,4.549932382926653,5.7145934315482325])                        |\n|(1000,[7,24,358,769],[4.065169151015052,4.464557201001815,5.82804730250002,6.502880109466778])                         |\n|(1000,[36,49,116],[4.643672557485587,4.771856083798497,5.088054242491647])                                             |\n|(1000,[1,44,45,272,403],[3.61620032051645,4.732733415502948,4.74022168327134,5.627985170412443,5.912454737388158])     |\n|(1000,[244],[5.536548431521538])                                                                                       |\n|(1000,[441,701,750,940],[5.975053393707903,6.430472133248797,6.48489512857396,6.726336600855518])                      |\n|(1000,[49,145,279,612,809],[4.771856083798497,5.209645645916476,5.663840823845928,6.291064558457776,6.568169851373369])|\n+-----------------------------------------------------------------------------------------------------------------------+\nonly showing top 10 rows\n\n"
          ]
        }
      ],
      "source": [
        "features.select(col(\"features\")).show(10, truncate=False)"
      ]
    },
    {
      "cell_type": "code",
      "execution_count": null,
      "metadata": {
        "application/vnd.databricks.v1+cell": {
          "cellMetadata": {
            "byteLimit": 2048000,
            "rowLimit": 10000
          },
          "inputWidgets": {},
          "nuid": "5c729ad6-4d52-4485-8e21-7270ff354049",
          "showTitle": false,
          "tableResultSettingsMap": {},
          "title": ""
        },
        "id": "44gueh2r91R7",
        "outputId": "fe76d2b4-da7e-4b4e-dfab-364f26e287de"
      },
      "outputs": [
        {
          "output_type": "stream",
          "name": "stdout",
          "text": [
            "+---------------------------------------------+--------------------------------------------------------+----------------------------------------------+------------------------------------------+\n|headline_text                                |tokens                                                  |terms                                         |terms_stemmed                             |\n+---------------------------------------------+--------------------------------------------------------+----------------------------------------------+------------------------------------------+\n|heavy metal deposits survey nearing end      |[heavy, metal, deposits, survey, nearing, end]          |[heavy, metal, deposits, survey, nearing, end]|[heavi, metal, deposit, survey, near, end]|\n|planning for intersection revamp begins      |[planning, for, intersection, revamp, begins]           |[planning, intersection, revamp, begins]      |[plan, intersect, revamp, begin]          |\n|blix orders destruction of iraqi missiles    |[blix, orders, destruction, of, iraqi, missiles]        |[blix, orders, destruction, iraqi, missiles]  |[blix, order, destruct, iraqi, missil]    |\n|wa opp says police will be taken off the beat|[wa, opp, says, police, will, be, taken, off, the, beat]|[wa, opp, says, police, taken, beat]          |[wa, opp, say, polic, taken, beat]        |\n|forum calls for more water in the murray     |[forum, calls, for, more, water, in, the, murray]       |[forum, calls, water, murray]                 |[forum, call, water, murray]              |\n+---------------------------------------------+--------------------------------------------------------+----------------------------------------------+------------------------------------------+\nonly showing top 5 rows\n\n"
          ]
        }
      ],
      "source": [
        "clean_news_df.show(5, truncate=False)"
      ]
    },
    {
      "cell_type": "markdown",
      "metadata": {
        "application/vnd.databricks.v1+cell": {
          "cellMetadata": {
            "byteLimit": 2048000,
            "rowLimit": 10000
          },
          "inputWidgets": {},
          "nuid": "b523abbc-d6d7-4ec7-ab05-b15acdb39bdd",
          "showTitle": false,
          "tableResultSettingsMap": {},
          "title": ""
        },
        "id": "IOjOs9YP91R_"
      },
      "source": [
        "###### Olası sıfır uzunluklu vektörleri kontrol edin ve kaldırın"
      ]
    },
    {
      "cell_type": "code",
      "execution_count": null,
      "metadata": {
        "application/vnd.databricks.v1+cell": {
          "cellMetadata": {
            "byteLimit": 2048000,
            "rowLimit": 10000
          },
          "inputWidgets": {},
          "nuid": "a47469e1-f56f-49ed-bd3b-3a8c2e8f8826",
          "showTitle": false,
          "tableResultSettingsMap": {},
          "title": ""
        },
        "id": "OFz3teXE91R_"
      },
      "outputs": [],
      "source": [
        "@udf(\"long\")\n",
        "def num_nonzeros(v):\n",
        "    return v.numNonzeros()"
      ]
    },
    {
      "cell_type": "code",
      "execution_count": null,
      "metadata": {
        "application/vnd.databricks.v1+cell": {
          "cellMetadata": {
            "byteLimit": 2048000,
            "rowLimit": 10000
          },
          "inputWidgets": {},
          "nuid": "03793f45-17a0-4da5-8f7c-d340666c401c",
          "showTitle": false,
          "tableResultSettingsMap": {},
          "title": ""
        },
        "id": "BtoPkMwp91R_",
        "outputId": "2586d837-d11e-4b36-f902-a42896da7c75"
      },
      "outputs": [
        {
          "output_type": "stream",
          "name": "stdout",
          "text": [
            "Total n. of zero-length vectors: 28341\n"
          ]
        }
      ],
      "source": [
        "print(\"Total n. of zero-length vectors: {:d}\".\n",
        "      format(features.where(num_nonzeros(\"features\") == 0).count()))"
      ]
    },
    {
      "cell_type": "code",
      "execution_count": null,
      "metadata": {
        "application/vnd.databricks.v1+cell": {
          "cellMetadata": {
            "byteLimit": 2048000,
            "rowLimit": 10000
          },
          "inputWidgets": {},
          "nuid": "cf8bc802-c18d-4979-9885-2f7127347db8",
          "showTitle": false,
          "tableResultSettingsMap": {},
          "title": ""
        },
        "id": "bjPY2rvG91SA"
      },
      "outputs": [],
      "source": [
        "features = features.where(num_nonzeros(\"features\") > 0)"
      ]
    },
    {
      "cell_type": "code",
      "execution_count": null,
      "metadata": {
        "application/vnd.databricks.v1+cell": {
          "cellMetadata": {
            "byteLimit": 2048000,
            "rowLimit": 10000
          },
          "inputWidgets": {},
          "nuid": "b7e735aa-6f9a-414d-b4bf-2c2aa87369a3",
          "showTitle": false,
          "tableResultSettingsMap": {},
          "title": ""
        },
        "id": "MEciEp1Y91SA",
        "outputId": "02e441b5-22e3-45c0-8f46-7f0b37cd2c5c"
      },
      "outputs": [
        {
          "output_type": "stream",
          "name": "stdout",
          "text": [
            "Total n. of zero-length vectors (after removal): 0\n"
          ]
        }
      ],
      "source": [
        "print(\"Total n. of zero-length vectors (after removal): {:d}\".\n",
        "      format(features.where(num_nonzeros(\"features\") == 0).count()))"
      ]
    },
    {
      "cell_type": "markdown",
      "metadata": {
        "application/vnd.databricks.v1+cell": {
          "cellMetadata": {
            "byteLimit": 2048000,
            "rowLimit": 10000
          },
          "inputWidgets": {},
          "nuid": "2be4e1cc-3636-487f-8839-fd1f06a40d7e",
          "showTitle": false,
          "tableResultSettingsMap": {},
          "title": ""
        },
        "id": "ihs_nV9491SA"
      },
      "source": [
        "### 3. K-means Clustering"
      ]
    },
    {
      "cell_type": "code",
      "execution_count": null,
      "metadata": {
        "application/vnd.databricks.v1+cell": {
          "cellMetadata": {
            "byteLimit": 2048000,
            "rowLimit": 10000
          },
          "inputWidgets": {},
          "nuid": "c90dad08-68fb-4d4a-b67c-54d2c8b33b5c",
          "showTitle": false,
          "tableResultSettingsMap": {},
          "title": ""
        },
        "id": "LXfbvCBs91SA"
      },
      "outputs": [],
      "source": [
        "N_CLUSTERS = 10 # number of output clusters (K)\n",
        "DISTANCE_MEASURE = \"euclidean\" # alternatively, \"cosine\"\n",
        "MAX_ITERATIONS = 100 # maximum number of iterations of K-means EM algorithm\n",
        "TOLERANCE = 0.000001 # tolerance between consecutive centroid updates (i.e., another stopping criterion)"
      ]
    },
    {
      "cell_type": "code",
      "execution_count": null,
      "metadata": {
        "application/vnd.databricks.v1+cell": {
          "cellMetadata": {
            "byteLimit": 2048000,
            "rowLimit": 10000
          },
          "inputWidgets": {},
          "nuid": "8bd1e0ca-bd5c-4fb9-b8d5-2d8ada7dc87b",
          "showTitle": false,
          "tableResultSettingsMap": {},
          "title": ""
        },
        "id": "cvJfLudn91SA"
      },
      "outputs": [],
      "source": [
        "def k_means(dataset,\n",
        "            n_clusters,\n",
        "            distance_measure=DISTANCE_MEASURE,\n",
        "            max_iter=MAX_ITERATIONS,\n",
        "            tol=TOLERANCE,\n",
        "            features_col=\"features\",\n",
        "            prediction_col=\"cluster\",\n",
        "            random_seed=RANDOM_SEED):\n",
        "\n",
        "  from pyspark.ml.clustering import KMeans\n",
        "\n",
        "  print(\"\"\"Training K-means clustering using the following parameters:\n",
        "  - K (n. of clusters) = {:d}\n",
        "  - max_iter (max n. of iterations) = {:d}\n",
        "  - distance measure = {:s}\n",
        "  - random seed = {:d}\n",
        "  \"\"\".format(n_clusters, max_iter, distance_measure, random_seed))\n",
        "  # Train a K-means model\n",
        "  kmeans = KMeans(featuresCol=features_col,\n",
        "                   predictionCol=prediction_col,\n",
        "                   k=n_clusters,\n",
        "                   initMode=\"k-means||\",\n",
        "                   initSteps=5,\n",
        "                   tol=tol,\n",
        "                   maxIter=max_iter,\n",
        "                   seed=random_seed,\n",
        "                   distanceMeasure=distance_measure)\n",
        "  model = kmeans.fit(dataset)\n",
        "\n",
        "  # Make clusters\n",
        "  clusters_df = model.transform(dataset).cache()\n",
        "\n",
        "  return model, clusters_df"
      ]
    },
    {
      "cell_type": "code",
      "execution_count": null,
      "metadata": {
        "application/vnd.databricks.v1+cell": {
          "cellMetadata": {
            "byteLimit": 2048000,
            "rowLimit": 10000
          },
          "inputWidgets": {},
          "nuid": "cfecebd0-825a-4cb8-a357-706c4192b922",
          "showTitle": false,
          "tableResultSettingsMap": {},
          "title": ""
        },
        "id": "dP3Mqn6n91SA",
        "outputId": "296bf10d-4593-43ac-96cc-fce69e98de26"
      },
      "outputs": [
        {
          "output_type": "stream",
          "name": "stdout",
          "text": [
            "Training K-means clustering using the following parameters: \n  - K (n. of clusters) = 10\n  - max_iter (max n. of iterations) = 100\n  - distance measure = euclidean\n  - random seed = 42\n  \n"
          ]
        }
      ],
      "source": [
        "model, clusters_df = k_means(features, N_CLUSTERS, max_iter=MAX_ITERATIONS, distance_measure=DISTANCE_MEASURE)"
      ]
    },
    {
      "cell_type": "markdown",
      "metadata": {
        "application/vnd.databricks.v1+cell": {
          "cellMetadata": {
            "byteLimit": 2048000,
            "rowLimit": 10000
          },
          "inputWidgets": {},
          "nuid": "8edf44d0-647f-4f3f-a5dc-caafeb6b74b5",
          "showTitle": false,
          "tableResultSettingsMap": {},
          "title": ""
        },
        "id": "TM3wTeNh91SB"
      },
      "source": [
        "##### Elde edilen kümeleri değerlendirmek için kullanılan fonksiyon (Silhouette Coefficient)"
      ]
    },
    {
      "cell_type": "code",
      "execution_count": null,
      "metadata": {
        "application/vnd.databricks.v1+cell": {
          "cellMetadata": {
            "byteLimit": 2048000,
            "rowLimit": 10000
          },
          "inputWidgets": {},
          "nuid": "b882f3f5-294e-4f8a-a007-7a67ce4b2eb3",
          "showTitle": false,
          "tableResultSettingsMap": {},
          "title": ""
        },
        "id": "1NcoJdZq91SB"
      },
      "outputs": [],
      "source": [
        "\n",
        "\n",
        "def evaluate_k_means(clusters,\n",
        "                     metric_name=\"silhouette\",\n",
        "                     distance_measure=\"squaredEuclidean\", # cosine\n",
        "                     prediction_col=\"cluster\"\n",
        "                     ):\n",
        "\n",
        "  from pyspark.ml.evaluation import ClusteringEvaluator\n",
        "\n",
        "  # Evaluate clustering by computing Silhouette score\n",
        "  evaluator = ClusteringEvaluator(metricName=metric_name,\n",
        "                                  distanceMeasure=distance_measure,\n",
        "                                  predictionCol=prediction_col\n",
        "                                  )\n",
        "\n",
        "  return evaluator.evaluate(clusters)\n",
        "\n"
      ]
    },
    {
      "cell_type": "markdown",
      "metadata": {
        "application/vnd.databricks.v1+cell": {
          "cellMetadata": {
            "byteLimit": 2048000,
            "rowLimit": 10000
          },
          "inputWidgets": {},
          "nuid": "a2d26a0c-68ed-4135-9086-67e6a0507d9c",
          "showTitle": false,
          "tableResultSettingsMap": {},
          "title": ""
        },
        "id": "qoHY_BnB91SB"
      },
      "source": [
        "######Kümelemeyi değerlendirin (Silhouette Coefficient)"
      ]
    },
    {
      "cell_type": "code",
      "execution_count": null,
      "metadata": {
        "application/vnd.databricks.v1+cell": {
          "cellMetadata": {
            "byteLimit": 2048000,
            "rowLimit": 10000
          },
          "inputWidgets": {},
          "nuid": "7a5295c8-a18e-464d-b36f-873cf3adcf22",
          "showTitle": false,
          "tableResultSettingsMap": {},
          "title": ""
        },
        "id": "KLCLN4qN91SB",
        "outputId": "7a7706cc-10b3-4f10-8a2b-3725ae2e54a8"
      },
      "outputs": [
        {
          "output_type": "stream",
          "name": "stdout",
          "text": [
            "Out[28]: 0.03925454725124379"
          ]
        }
      ],
      "source": [
        "evaluate_k_means(clusters_df, distance_measure=\"squaredEuclidean\")"
      ]
    },
    {
      "cell_type": "code",
      "execution_count": null,
      "metadata": {
        "application/vnd.databricks.v1+cell": {
          "cellMetadata": {
            "byteLimit": 2048000,
            "rowLimit": 10000
          },
          "inputWidgets": {},
          "nuid": "99ceab24-6d01-47e8-b4a2-ba6d90fdd149",
          "showTitle": false,
          "tableResultSettingsMap": {},
          "title": ""
        },
        "id": "KsW8nqse91SB",
        "outputId": "393aee06-8ebb-4d57-9228-7cf888ed26c1"
      },
      "outputs": [
        {
          "output_type": "stream",
          "name": "stdout",
          "text": [
            "+--------------------+--------------------+--------------------+--------------------+--------------------+--------------------+-------+\n|       headline_text|              tokens|               terms|       terms_stemmed|         tf_features|            features|cluster|\n+--------------------+--------------------+--------------------+--------------------+--------------------+--------------------+-------+\n|heavy metal depos...|[heavy, metal, de...|[heavy, metal, de...|[heavi, metal, de...|(1000,[119,237,66...|(1000,[119,237,66...|      0|\n|planning for inte...|[planning, for, i...|[planning, inters...|[plan, intersect,...|(1000,[4,208,772]...|(1000,[4,208,772]...|      0|\n|blix orders destr...|[blix, orders, de...|[blix, orders, de...|[blix, order, des...|(1000,[475,537],[...|(1000,[475,537],[...|      0|\n|wa opp says polic...|[wa, opp, says, p...|[wa, opp, says, p...|[wa, opp, say, po...|(1000,[0,3,29,300...|(1000,[0,3,29,300...|      0|\n|forum calls for m...|[forum, calls, fo...|[forum, calls, wa...|[forum, call, wat...|(1000,[7,24,358,7...|(1000,[7,24,358,7...|      0|\n+--------------------+--------------------+--------------------+--------------------+--------------------+--------------------+-------+\nonly showing top 5 rows\n\n"
          ]
        }
      ],
      "source": [
        "clusters_df.show(5)"
      ]
    },
    {
      "cell_type": "code",
      "execution_count": null,
      "metadata": {
        "application/vnd.databricks.v1+cell": {
          "cellMetadata": {
            "byteLimit": 2048000,
            "rowLimit": 10000
          },
          "inputWidgets": {},
          "nuid": "b5b16257-9c24-4347-ad68-bb46f5bc338d",
          "showTitle": false,
          "tableResultSettingsMap": {},
          "title": ""
        },
        "id": "vptKEy3q91SC",
        "outputId": "e2ddd819-429d-40a9-f322-1656708c7b52"
      },
      "outputs": [
        {
          "output_type": "stream",
          "name": "stdout",
          "text": [
            "+-------+------+\n|cluster| count|\n+-------+------+\n|      0|973389|\n|      1|  7407|\n|      2| 10434|\n|      3|  3466|\n|      4|  5248|\n|      5|  4259|\n|      6| 11223|\n|      7|  3726|\n|      8| 13861|\n|      9|  4607|\n+-------+------+\n\n"
          ]
        }
      ],
      "source": [
        "clusters_df.groupBy(\"cluster\").count().sort(\"cluster\").show()"
      ]
    },
    {
      "cell_type": "code",
      "execution_count": null,
      "metadata": {
        "application/vnd.databricks.v1+cell": {
          "cellMetadata": {
            "byteLimit": 2048000,
            "rowLimit": 10000
          },
          "inputWidgets": {},
          "nuid": "83a054cb-008c-42b5-bf9e-1448443fb749",
          "showTitle": false,
          "tableResultSettingsMap": {},
          "title": ""
        },
        "id": "_Uaxm-G791SC",
        "outputId": "ae1b9591-7e8b-4391-91a3-963852e8e4f1"
      },
      "outputs": [
        {
          "output_type": "stream",
          "name": "stdout",
          "text": [
            "Cluster IDs: [0, 1, 2, 3, 4, 5, 6, 7, 8, 9]\nShowing the first 10 records of cluster ID #0\n+-------+--------------------+\n|cluster|       headline_text|\n+-------+--------------------+\n|      0|heavy metal depos...|\n|      0|planning for inte...|\n|      0|blix orders destr...|\n|      0|wa opp says polic...|\n|      0|forum calls for m...|\n|      0|environment centr...|\n|      0|man missing after...|\n|      0|gonzalez in the w...|\n|      0|chinese economy f...|\n|      0|un inspectors set...|\n+-------+--------------------+\nonly showing top 10 rows\n\nShowing the first 10 records of cluster ID #1\n+-------+--------------------+\n|cluster|       headline_text|\n+-------+--------------------+\n|      1|govt warns austra...|\n|      1|workplace safety ...|\n|      1|unbeaten freitas ...|\n|      1|sydney water elec...|\n|      1|us senators talk ...|\n|      1|opposition worrie...|\n|      1|safety reminder i...|\n|      1|level crossing sa...|\n|      1|skipping periods ...|\n|      1|mine unions back ...|\n+-------+--------------------+\nonly showing top 10 rows\n\nShowing the first 10 records of cluster ID #2\n+-------+--------------------+\n|cluster|       headline_text|\n+-------+--------------------+\n|      2|landholders prote...|\n|      2|protestants celeb...|\n|      2|councils protest ...|\n|      2|fruit bin bonfire...|\n|      2|protesters rally ...|\n|      2|dump protesters v...|\n|      2|e timor loses fai...|\n|      2|myilly point resi...|\n|      2|protesters storm ...|\n|      2|govt urged to bac...|\n+-------+--------------------+\nonly showing top 10 rows\n\nShowing the first 10 records of cluster ID #3\n+-------+--------------------+\n|cluster|       headline_text|\n+-------+--------------------+\n|      3|pneumonia rolls s...|\n|      3|federal funding p...|\n|      3|moroccan journali...|\n|      3|police raid kings...|\n|      3|raiders roll dragons|\n|      3|albacete fall vic...|\n|      3|wildcats and king...|\n|      3|nepals king sacks...|\n|      3|monty king of eur...|\n|      3|truck rolls spill...|\n+-------+--------------------+\nonly showing top 10 rows\n\nShowing the first 10 records of cluster ID #4\n+-------+--------------------+\n|cluster|       headline_text|\n+-------+--------------------+\n|      4|nrl charges two f...|\n|      4|deal wont stop il...|\n|      4|labor infighting ...|\n|      4|crash inquest cop...|\n|      4|nadal leads favou...|\n|      4|stop buying water...|\n|      4|boat carrying asy...|\n|      4|farmers and grape...|\n|      4|concern over remo...|\n|      4|the redlight on t...|\n+-------+--------------------+\nonly showing top 10 rows\n\nShowing the first 10 records of cluster ID #5\n+-------+--------------------+\n|cluster|       headline_text|\n+-------+--------------------+\n|      5|group says no evi...|\n|      5|yalgoo drivers ta...|\n|      5|sven fuels quit s...|\n|      5|fuel to be remove...|\n|      5|darling downs to ...|\n|      5|isa mayor welcome...|\n|      5|police lay charge...|\n|      5|new fuel package ...|\n|      5|health checks con...|\n|      5|pilbara region in...|\n+-------+--------------------+\nonly showing top 10 rows\n\nShowing the first 10 records of cluster ID #6\n+-------+--------------------+\n|cluster|       headline_text|\n+-------+--------------------+\n|      6|police call for w...|\n|      6|court hears sex s...|\n|      6|perth school defe...|\n|      6|sex abuse claims ...|\n|      6|man to front cour...|\n|      6|wa police arrest ...|\n|      6|perth man pleads ...|\n|      6|nsw cop charged o...|\n|      6|independent says ...|\n|      6|public get say on...|\n+-------+--------------------+\nonly showing top 10 rows\n\nShowing the first 10 records of cluster ID #7\n+-------+--------------------+\n|cluster|       headline_text|\n+-------+--------------------+\n|      7|woman critically ...|\n|      7|labor likely to h...|\n|      7|four killed in ba...|\n|      7|roar eyeing top f...|\n|      7|gunman kills four...|\n|      7|four hour rule fo...|\n|      7|four killed in ro...|\n|      7|congress buffets ...|\n|      7|four years jail f...|\n|      7|brumbies make fou...|\n+-------+--------------------+\nonly showing top 10 rows\n\nShowing the first 10 records of cluster ID #8\n+-------+--------------------+\n|cluster|       headline_text|\n+-------+--------------------+\n|      8|rain leads to can...|\n|      8|heatwave kills mo...|\n|      8|man killed anothe...|\n|      8|hail storm kills ...|\n|      8|six iraqis killed...|\n|      8|two killed injure...|\n|      8|baghdad bombs kil...|\n|      8|afghan soldier ki...|\n|      8|nine killed as tr...|\n|      8|two thai policeme...|\n+-------+--------------------+\nonly showing top 10 rows\n\nShowing the first 10 records of cluster ID #9\n+-------+--------------------+\n|cluster|       headline_text|\n+-------+--------------------+\n|      9|hopes for mine sa...|\n|      9|exporters to form...|\n|      9|brownlow dress up...|\n|      9|robot sales boom ...|\n|      9|macquarie group p...|\n|      9|stakeholders to d...|\n|      9|abs car sales fig...|\n|      9|green light for s...|\n|      9|land earmarked fo...|\n|      9|govt snubs irriga...|\n+-------+--------------------+\nonly showing top 10 rows\n\n"
          ]
        }
      ],
      "source": [
        "# Get unique values in the grouping column\n",
        "clusters = sorted([x[0] for x in clusters_df.select(\"cluster\").distinct().collect()])\n",
        "print(\"Cluster IDs: [{:s}]\".format(\", \".join([str(c) for c in clusters])))\n",
        "\n",
        "# Create a filtered DataFrame for each group in a list comprehension\n",
        "cluster_list = [clusters_df.where(clusters_df.cluster == x) for x in clusters]\n",
        "\n",
        "# Show the results (first 5 cluters)\n",
        "for x_id, x in enumerate(cluster_list):\n",
        "  print(\"Showing the first 10 records of cluster ID #{:d}\".format(x_id))\n",
        "  x.select([\"cluster\", \"headline_text\"]).show(10, truncate=True)"
      ]
    },
    {
      "cell_type": "code",
      "execution_count": null,
      "metadata": {
        "application/vnd.databricks.v1+cell": {
          "cellMetadata": {
            "byteLimit": 2048000,
            "rowLimit": 10000
          },
          "inputWidgets": {},
          "nuid": "8e4d1b6e-4d2c-4877-8a8b-e9bb90e293ed",
          "showTitle": false,
          "tableResultSettingsMap": {},
          "title": ""
        },
        "id": "tgMuET5X91SC"
      },
      "outputs": [],
      "source": []
    },
    {
      "cell_type": "code",
      "execution_count": null,
      "metadata": {
        "application/vnd.databricks.v1+cell": {
          "cellMetadata": {
            "byteLimit": 2048000,
            "rowLimit": 10000
          },
          "inputWidgets": {},
          "nuid": "d08afd92-8592-470e-ba6e-402102dfefdc",
          "showTitle": false,
          "tableResultSettingsMap": {},
          "title": ""
        },
        "id": "l3R93x0d91SC"
      },
      "outputs": [],
      "source": [
        "EMBEDDING_SIZE = 150 # size of embedding Word2Vec vectors"
      ]
    },
    {
      "cell_type": "code",
      "execution_count": null,
      "metadata": {
        "application/vnd.databricks.v1+cell": {
          "cellMetadata": {
            "byteLimit": 2048000,
            "rowLimit": 10000
          },
          "inputWidgets": {},
          "nuid": "6c542edb-06bb-4c7e-9c8e-a1b9d38e82de",
          "showTitle": false,
          "tableResultSettingsMap": {},
          "title": ""
        },
        "id": "S6XOGuLX91SC"
      },
      "outputs": [],
      "source": [
        "def extract_w2v_features(df, column_name=\"terms\"):\n",
        "  from pyspark.ml.feature import Word2Vec\n",
        "\n",
        "  word2vec = Word2Vec(vectorSize=EMBEDDING_SIZE, minCount=5, inputCol=column_name, outputCol=\"features\", seed=RANDOM_SEED)\n",
        "  model = word2vec.fit(df)\n",
        "  features = model.transform(df).cache()\n",
        "\n",
        "  return model, features"
      ]
    },
    {
      "cell_type": "code",
      "execution_count": null,
      "metadata": {
        "application/vnd.databricks.v1+cell": {
          "cellMetadata": {
            "byteLimit": 2048000,
            "rowLimit": 10000
          },
          "inputWidgets": {},
          "nuid": "ed4c3e59-2a75-409d-a027-ee95b2918fb9",
          "showTitle": false,
          "tableResultSettingsMap": {},
          "title": ""
        },
        "id": "6O95eyB091SD"
      },
      "outputs": [],
      "source": [
        "model, w2v_features = extract_w2v_features(clean_news_df)"
      ]
    },
    {
      "cell_type": "code",
      "execution_count": null,
      "metadata": {
        "application/vnd.databricks.v1+cell": {
          "cellMetadata": {
            "byteLimit": 2048000,
            "rowLimit": 10000
          },
          "inputWidgets": {},
          "nuid": "ba08f6b5-ea06-4d58-99d9-125c6dc4f723",
          "showTitle": false,
          "tableResultSettingsMap": {},
          "title": ""
        },
        "id": "h9faVw9t91SD",
        "outputId": "bb9486db-f930-40c1-8dc4-471a110f53c9"
      },
      "outputs": [
        {
          "output_type": "stream",
          "name": "stdout",
          "text": [
            "+--------------------------------------------------+----------------------------------------------------------+----------------------------------------------------------+------------------------------------------------------+-----------------------------------------------------------------------------------------------------------------------------------------------------------------------------------------------------------------------------------------------------------------------------------------------------------------------------------------------------------------------------------------------------------------------------------------------------------------------------------------------------------------------------------------------------------------------------------------------------------------------------------------------------------------------------------------------------------------------------------------------------------------------------------------------------------------------------------------------------------------------------------------------------------------------------------------------------------------------------------------------------------------------------------------------------------------------------------------------------------------------------------------------------------------------------------------------------------------------------------------------------------------------------------------------------------------------------------------------------------------------------------------------------------------------------------------------------------------------------------------------------------------------------------------------------------------------------------------------------------------------------------------------------------------------------------------------------------------------------------------------------------------------------------------------------------------------------------------------------------------------------------------------------------------------------------------------------------------------------------------------------------------------------------------------------------------------------------------------------------------------------------------------------------------------------------------------------------------------------------------------------------------------------------------------------------------------------------------------------------------------------------------------------------------------------------------------------------------------------------------------------------------------------------------------------------------------------------------------------------------------------------------------------------------------------------------------------------------------------------------------------------------------------------------------------------------------------------------------------------------------------------------------------------------------------------------------------------------------------------------------------------------------------------------------------------------------------------------------------------------------------------------------------------------------------------------------------------------------------------------------------+\n|headline_text                                     |tokens                                                    |terms                                                     |terms_stemmed                                         |features                                                                                                                                                                                                                                                                                                                                                                                                                                                                                                                                                                                                                                                                                                                                                                                                                                                                                                                                                                                                                                                                                                                                                                                                                                                                                                                                                                                                                                                                                                                                                                                                                                                                                                                                                                                                                                                                                                                                                                                                                                                                                                                                                                                                                                                                                                                                                                                                                                                                                                                                                                                                                                                                                                                                                                                                                                                                                                                                                                                                                                                                                                                                                                                                                                             |\n+--------------------------------------------------+----------------------------------------------------------+----------------------------------------------------------+------------------------------------------------------+-----------------------------------------------------------------------------------------------------------------------------------------------------------------------------------------------------------------------------------------------------------------------------------------------------------------------------------------------------------------------------------------------------------------------------------------------------------------------------------------------------------------------------------------------------------------------------------------------------------------------------------------------------------------------------------------------------------------------------------------------------------------------------------------------------------------------------------------------------------------------------------------------------------------------------------------------------------------------------------------------------------------------------------------------------------------------------------------------------------------------------------------------------------------------------------------------------------------------------------------------------------------------------------------------------------------------------------------------------------------------------------------------------------------------------------------------------------------------------------------------------------------------------------------------------------------------------------------------------------------------------------------------------------------------------------------------------------------------------------------------------------------------------------------------------------------------------------------------------------------------------------------------------------------------------------------------------------------------------------------------------------------------------------------------------------------------------------------------------------------------------------------------------------------------------------------------------------------------------------------------------------------------------------------------------------------------------------------------------------------------------------------------------------------------------------------------------------------------------------------------------------------------------------------------------------------------------------------------------------------------------------------------------------------------------------------------------------------------------------------------------------------------------------------------------------------------------------------------------------------------------------------------------------------------------------------------------------------------------------------------------------------------------------------------------------------------------------------------------------------------------------------------------------------------------------------------------------------------------------------------------+\n|heavy metal deposits survey nearing end           |[heavy, metal, deposits, survey, nearing, end]            |[heavy, metal, deposits, survey, nearing, end]            |[heavi, metal, deposit, survey, near, end]            |[0.06129877517620722,0.02158409310504794,0.022689565395315487,0.06916740288337071,0.03564039679865042,-0.10420724299425879,-0.05153532372787595,0.13086898648180068,-0.06266618520021439,0.028527870153387386,-0.10474775607387224,0.03284511373688777,-0.11158351351817448,-0.07044370511236289,0.03652434051036835,-0.12409220449626446,-0.026409227711459,0.06816363210479418,-0.019639841591318447,-0.025251859488586582,0.11490644452472527,-0.07279979437589645,-0.04426595817009608,0.09222397735963264,0.03139251222213109,-0.10411733078459898,-0.0669047844906648,-0.0898393839597702,-6.968729818860689E-4,0.09790231413595998,-0.06148373320077856,-0.042717317429681614,0.11304240270207325,-0.06693099982415636,0.05389669009794791,-0.005236635450273752,-0.1476052285482486,0.05506888839105765,0.06123597027423481,-0.002148750238120556,-0.08288771193474531,-0.04962097434327006,0.16556898380319277,-0.06222708042090137,-0.010269226816793282,-0.23750697045276561,-0.0015712321425477662,-0.05836286830405394,0.0774918192376693,0.013142002436021963,0.026300832784424223,-0.016832234648366768,-0.09786207104722658,0.017731092249353726,-0.03837054905792077,-0.0724698284951349,0.05167386432488759,0.10708677644530931,-0.03225937858223915,-0.04730233487983544,0.029666181032856304,-0.0014994402202622343,-0.05303571213153191,-0.006847272937496503,0.16236343358953792,-0.1258174180984497,-0.14776770033252734,0.06261233116189638,0.018901351063201823,0.08144362247548997,0.029524009053905804,-0.022043608594685793,-0.18533429092106718,0.07363900418082872,0.005900051444768906,-0.04492448642849922,-0.07819497709472974,-0.05227702607711156,0.0746203837916255,0.005793158275385697,-0.025111157718735434,-0.08162361166129509,-0.006349984866877397,-0.0463739192734162,0.12022678228095174,-0.09039822965860367,0.006931671251853307,0.08337021293118596,-0.13810776360332966,-0.1562569250818342,-0.02735295689975222,0.18587031867355108,0.20003487495705485,-0.0410321212063233,0.04409780818969011,0.05109949316829443,0.014974996447563171,-0.0862840875100422,0.052105458453297615,0.12127103594442208,0.06757604765395323,-0.09756981208920479,0.018889862578362226,0.1254120332499345,-0.11452306248247623,-0.15528478349248567,0.08517839821676412,-0.03749040017525355,0.046647058489422,-0.03893541544675827,-0.0016479482098172107,-0.03767613895858327,0.03404054480294386,0.025108523264255684,-0.040684670209884644,0.08248649848004182,0.05300943943317785,-0.04674095722536246,0.06612709537148476,0.02480081592996915,-0.09876625410591562,0.007678506275018056,-0.0648044425373276,0.042281773096571364,0.005646479626496633,0.0407251981087029,0.10153623856604099,-0.005268914004166921,0.014058316436906654,-0.05609953962266445,0.03955324708173672,0.002342996497948964,-0.0147778580042844,-0.01998480161031087,0.021412880159914494,0.012153243646025658,-3.935762991507848E-4,0.04466350997487704,-0.10366827125350633,-0.14530966091782221,0.03863875738655527,-0.04240935171643893,0.183742872128884,-0.10203376319259405,0.08521454781293869,-0.01399640676875909,-0.020129987717761345,0.01489239806930224,-0.07092486666321443,-0.06226460045824448]                      |\n|planning for intersection revamp begins           |[planning, for, intersection, revamp, begins]             |[planning, intersection, revamp, begins]                  |[plan, intersect, revamp, begin]                      |[0.006627058144658804,0.05507923197001219,-0.12802163631567964,-0.0858937669545412,0.010125640779733658,0.07728992216289043,-0.03130311815766618,-0.0960597381927073,-0.22779078502207994,0.06104555947240442,-0.12481286190450191,-0.004636968951672316,-0.04436561353577417,0.2737232446670532,0.009010085836052895,-0.03399448050186038,0.07411229703575373,0.15634262934327126,-0.09139064734335989,0.02440445637330413,0.11917810048907995,-0.13667495548725128,0.21109782857820392,-0.08859277702867985,0.007994021754711866,0.03286940045654774,0.019605902954936028,-0.14883235888555646,-0.05067645409144461,-0.04680130863562226,-0.1344639305025339,-0.11755555868148804,0.062317442148923874,0.09215069375932217,-0.28136688470840454,0.009689902421087027,-0.14634050196036696,0.047341275960206985,0.005221774219535291,0.04339028336107731,-0.11364399641752243,-0.22993294149637222,-0.1087402943521738,-0.029627136886119843,-0.043732427060604095,-0.044331690296530724,0.12478830991312861,0.09332796762464568,0.14197223726660013,0.04500975669361651,0.05760912783443928,0.010122058913111687,-0.23366012144833803,-0.01597516192123294,-0.024260450154542923,-0.22068725898861885,-0.10755150206387043,-0.1458020459394902,0.03917760914191604,-0.04003499262034893,-0.1641853265464306,0.10615279991179705,0.21643403079360723,-0.1189088886603713,0.04656056500971317,-0.15157772600650787,-0.006978458259254694,0.0032937340438365936,0.04497045185416937,-0.08575736032798886,0.10198861919343472,-0.04141779989004135,-0.23273122310638428,0.26457231398671865,-0.07262343284673989,-0.05502739641815424,0.14648087695240974,-0.1484353670384735,-2.644945780048147E-4,-0.05875284248031676,-0.24934189021587372,-0.09198951255530119,-0.11875222355592996,0.23641959857195616,-0.12073064735159278,-0.12194461305625737,-0.02838286943733692,0.02310975082218647,0.1283989232033491,0.04743460053578019,-0.0226195203140378,0.07346686162054539,0.1032911422662437,-0.07143415324389935,-0.033356646075844765,0.14886748883873224,0.09433502657338977,0.0453934483230114,0.2713545449078083,0.059464472346007824,-0.26273373886942863,-0.20159585867077112,-0.06349868141114712,-0.11325278738513589,0.13304916210472584,-0.0041474588215351105,0.3309611491858959,-0.2143796244636178,-0.1088941190391779,0.04397480166517198,-0.07687560585327446,0.06109800422564149,0.036757428548298776,-0.0020505781285464764,0.1343108848668635,-0.13219975924585015,0.0031234819907695055,-0.37665407359600067,0.07151309686014429,0.016435748897492886,-0.09125012159347534,-0.04592250660061836,-0.10529131104703993,0.09927020221948624,0.03160368197131902,-0.07916791085153818,0.1447780728340149,-0.012260990682989359,-0.08154806680977345,0.07768691703677177,0.2089932430535555,-0.0638857614248991,-0.14117723249364644,-0.059258376248180866,-0.07336225174367428,0.1441558776423335,-0.0575509425252676,0.10568466104450636,-0.06698568351566792,-0.29622427001595497,-0.08509011939167976,0.05033319815993309,5.529839545488358E-4,-0.11681475676596165,0.08315136563032866,-0.09362650103867054,0.07624879479408264,0.19400220178067684,0.045157283544540405,0.08383516315370798]                                  |\n|blix orders destruction of iraqi missiles         |[blix, orders, destruction, of, iraqi, missiles]          |[blix, orders, destruction, iraqi, missiles]              |[blix, order, destruct, iraqi, missil]                |[0.12899037152528764,0.07912862300872803,0.11638042647391558,0.14859226122498512,0.051521658152341845,-0.011718010716140271,-0.06273084729909897,0.1743837092537433,-0.09546963572502137,0.13811609047188542,0.08992971293628216,0.13007214814424514,-0.0921292930841446,-0.026677581109106542,0.024966882169246675,0.007695791125297547,-0.0838548518717289,0.03387562371790409,-0.06924259047955275,-0.037821397930383686,0.17663245126605034,0.022481381148099902,-0.048092104494571686,0.1021727808751166,-0.11012061759829522,-0.031166160479187965,-0.2786832064390183,0.00965844839811325,-0.0289512999355793,-0.17464621923863888,0.00896389950066805,0.0722203316166997,-0.10797622911632061,0.025795851857401433,0.15785432010889056,0.05794593077152968,-0.09387856051325799,-0.12299236133694649,0.030605154670774938,-0.1364180151373148,0.05779114067554474,0.15216566175222399,0.0685657236725092,0.019017316162353384,-0.06697248034179211,-0.04755131034180522,-0.028015327639877796,-0.10127955749630929,-0.007410204783082009,-0.07799088507890702,0.0066151112318038946,0.04906264236196876,-0.033924733847379686,0.06718478724360466,0.05901907980442048,0.1454806849360466,0.04745296910405159,0.07960897162556649,0.0024899378418922428,0.1810899119824171,-0.09154040217399598,0.019086962938308718,-0.13786970302462578,-0.14292181078344585,-0.2241614028811455,0.09016446843743325,-0.10596659388393165,-0.06027206778526306,-0.14608475528657436,-0.178324643522501,0.05218196362257004,-0.07269989047199488,0.20801584422588348,0.04518102146685124,0.0038683805614709854,-0.030920353811234237,0.12007630169391632,-0.005967514764051884,0.09152542129158975,0.09278720282018185,-0.04207237856462598,0.01527889333665371,0.16225900799036028,0.10705819725990295,-0.1102340929210186,-0.1899013288319111,-0.09766309410333635,-0.012360414490103722,0.08171628788113594,-0.18862461596727373,-0.06807014839723706,-0.15006438419222834,-0.0484214261174202,-0.16932507529854776,-0.019675767375156285,-0.19693633280694486,-0.11928235180675983,-0.21204645968973637,0.013517186045646667,0.09888005889952184,-0.10491960793733597,-0.01532179042696953,-0.08732833713293076,-0.18809358328580858,-0.08742596106603742,-0.07818435430526734,-0.011623557307757437,0.10372322499752046,-0.06603760980069638,0.01846647560596466,0.19254323765635492,0.11169337183237077,-0.02996651977300644,0.02470451444387436,-0.29490212202072147,-0.08857077322900296,-0.26821994557976725,-0.18136234730482104,0.18605177327990532,0.07247442863881588,-0.06667417790740729,0.09728056602180005,0.13775834403932094,0.12611286723986267,0.1701362192630768,0.12421050518751145,0.030157203227281573,-0.1304379180073738,-0.09096113368868829,0.04586861208081246,0.16696628965437413,0.010292124934494495,-0.11109947264194489,0.08549061045050621,0.1291543260216713,-0.1592724233865738,0.11217847464140505,-0.038178872689604765,-0.04578378200531006,-0.053715286776423454,-0.11755458898842336,0.027073099464178088,0.044001988833770156,0.06001800298690796,-0.106288153026253,-0.04922074526548386,-0.16678706258535386,0.01278236173093319,-0.02592625301331282,-0.0054522867314517505]                                  |\n|wa opp says police will be taken off the beat     |[wa, opp, says, police, will, be, taken, off, the, beat]  |[wa, opp, says, police, taken, beat]                      |[wa, opp, say, polic, taken, beat]                    |[0.061105974639455475,0.022402126962939896,-0.13829196197912097,0.0056770715552071725,0.06525701511418447,0.028849521651864052,0.0700382093588511,0.01177922651792566,-0.010820081690326333,0.0010251378019650776,-0.05033209174871445,-0.01439610868692398,-0.02775593474507332,0.10287018256106724,-0.024193433423837025,0.0814201695951245,0.06181724555790424,0.1422020209332307,0.011078882031142712,-0.11511662354071935,0.05046109016984701,-0.018620401620864868,-0.017345595483978588,-0.05750257091131061,-0.11080644077931841,0.005446076393127441,0.03843158980210622,-0.08689200785011053,-0.03847707714885473,-0.010496790210405985,0.08690119146679838,0.044264258816838264,0.017489118501544,-0.03140932756165663,0.007016765885055065,0.08573058682183424,-0.036748613929376006,0.05237936430300275,-0.018670987337827682,0.028990660173197586,0.09857070539146662,-0.041772872830430664,-0.011045165049533049,0.0017003784887492657,-0.1639961851760745,0.03892533853650093,0.06164606971045335,0.002650140629460414,0.014559592120349407,-0.0015205616752306619,-0.11786588995407024,0.11181973425361016,-0.08133930961290994,0.04268932590881983,0.06030220910906792,0.056732697412371635,0.06426373993357022,0.10676821445425351,0.017891024860243,-0.0437819870809714,-0.03811212722212076,0.13472589602073032,0.11654979673524697,-0.21981344620386759,-0.037118552873531975,-0.12653163044402996,0.019584788009524345,-0.00805740764675041,0.0016769959280888238,0.15677059069275856,-0.03276010602712631,-0.07298868987709284,-0.08680716343224049,0.02145079857048889,0.08434476082523663,-0.006435549507538477,0.06847926399980982,0.028412395467360813,0.023988398102422554,0.08536849295099576,0.01275656030823787,-0.03719669207930565,0.0041361140708128605,-0.01475790391365687,-0.07264797141154607,0.08222400322605002,0.014505922173460323,-0.032295673076684274,-0.03256929355363051,-0.19609984879692394,-0.02372241778842484,0.12161891410748163,-0.16585370898246765,0.06883128887663284,0.17267300095409155,0.0299844058851401,-0.0644605675091346,-0.02295994310406968,-0.0557096345971028,0.06032614937673012,-0.005738178888956705,-0.061420192321141556,-0.013835858864088852,0.013932681564862529,0.015248856284112359,0.1482042856514454,-0.05301527585834265,0.10106387548148632,-0.03771606056640545,-0.07340438788135846,-0.06501488884290059,-0.00838354726632436,0.0031047338464607792,0.03569747103999058,-0.007707037031650543,0.06452896694342294,-0.10398473218083382,-0.0020384794722000756,0.05868007459988196,-0.03497199297028904,-0.15456264217694599,-0.04127012255291144,0.07257807441055775,-0.05637701569745938,0.0768585888048013,-0.042955004920562104,-0.09015143980892995,-0.11337916180491447,-0.029495903368418414,0.004038250694672266,0.026864960013578333,-0.06120699659610788,-0.11628685767451921,-0.05013466440141201,0.017400010488927364,0.011822998523712158,0.06519506312906742,0.0036305462320645647,-0.17522199529533583,-0.02307227657486995,0.02120416099205613,-0.10848734652002652,-0.01541568028430144,-0.09439672281344731,-0.06695244026680787,-0.06596647575497627,0.06522732228040695,-0.11410372021297613,0.1744874243934949,-0.023134559392929077]      |\n|forum calls for more water in the murray          |[forum, calls, for, more, water, in, the, murray]         |[forum, calls, water, murray]                             |[forum, call, water, murray]                          |[0.02594391629099846,0.09011442470364273,-0.1160944476723671,-0.1160710109397769,0.232537891715765,0.12751411506906152,-0.07802144065499306,0.20146748377010226,0.18762320978567004,-0.007755751721560955,-0.3396122306585312,-0.062179828993976116,-0.06145718414336443,0.05754490941762924,0.18103325460106134,0.050235236063599586,0.08432490925770253,0.09488958958536386,-0.0939570190384984,0.17629652749747038,0.009677723050117493,0.014301765710115433,-0.010791280772536993,-0.16634352877736092,-0.012765895575284958,0.16483966633677483,0.11791505804285407,0.006489474326372147,-0.028419592883437872,-0.24724356830120087,-0.14887532964348793,0.0886965710669756,0.06884187087416649,-0.047730330377817154,-0.04917569365352392,-0.22423370322212577,-0.14196679089218378,0.22380508109927177,-0.059475446498254314,0.1554005928337574,-0.3176950681954622,-0.03911679796874523,0.0053507983684539795,0.1288695652037859,0.19861730001866817,-0.17645274847745895,-0.11460224050097167,-0.15876661613583565,0.05779341980814934,0.2759980261325836,0.023534552194178104,-0.06687452271580696,0.11062642931938171,0.1635850379243493,-0.12084176577627659,-0.12407117336988449,-0.0111778499558568,0.22472960501909256,-0.046523222292307764,-0.01818068977445364,-0.014581632101908326,0.024441938381642103,0.12365035805851221,-0.134497885592\n\n*** WARNING: max output size exceeded, skipping output. ***\n\n68415458996,0.07294972008094192,-0.04300083530445893,-0.15443593449890614,0.005615850425480554,0.02569397228459517,0.040897320335110024,-0.011952012466887632,-0.0932186854382356,0.08945266033212343,0.06880267189505199,0.0023261974565684795,0.13774972905715305,0.2071366316328446,0.02938833770652612,-0.07141966791823506,-0.021513015031814575,0.05292766665418942,-0.06095632293727249,0.1468206578089545,0.11250945832580328,0.13530084366599718,-0.013201513327658176,-0.061433217177788414,-0.03492909297347069,-0.014283484468857447,-0.020333764453728993,0.039974860226114586,-0.019063064207633335,-0.07065862541397412,-0.030150101830561955,-0.07398400952418645,0.13234972891708213,0.05092429586996634,0.013684755812088648,0.14860597640896836,-0.15323771660526592,0.03728193293015162,-0.13539571811755496,-0.1192076513543725,0.034792387314761676,-0.06646304142971833,-0.08435523944596449,0.20490182439486185,-0.007782777771353722,-0.01691361516714096,-0.12242684109757343,0.09728172929802288,0.17150140926241875,-0.1853802440067132,0.022493863167862095,0.035352494567632675,0.07088860714187224,-0.053884646855294704,-0.01279483176767826,-0.010149117559194565,-0.02875487320125103,0.06690788284565011,0.028208564966917038,0.07644816922644773,-0.053680768236517906,-0.0070801575978597,0.08198664089043935,-0.04745905225475629,0.052754174917936325,-0.23180908833940822,-0.037962824727098145,-0.07124093857904275,-0.002451205238079031,-0.06385682492206493,-0.107746299666663,0.09696841239929199]                     |\n|fears grow over gillespie injury                  |[fears, grow, over, gillespie, injury]                    |[fears, grow, gillespie, injury]                          |[fear, grow, gillespi, injuri]                        |[0.13366588577628136,-0.12131158076226711,-0.14406800935830688,-0.03408539993688464,0.013369275256991386,-0.07070532371290028,-0.014456082135438919,0.03176361136138439,0.17378024570643902,0.04546875320374966,-0.14119278080761433,-0.030795241240411997,0.13334438600577414,-0.06450329348444939,0.21483509428799152,-5.118618719279766E-4,-0.04322150722146034,-0.02102524135261774,-0.08074734243564308,-0.08107573911547661,0.03638095560017973,-0.10751997772604227,0.008267847821116447,0.10322521533817053,-0.07448291406035423,-0.011283943662419915,-0.03922692174091935,0.08402219973504543,-0.044005337898852304,0.1383714905823581,0.09753380373877008,0.009344741702079773,-0.04188321181572974,-0.12812896631658077,-0.00920221395790577,-0.0163514600135386,0.07979746349155903,-0.08298006653785706,-0.09074564464390278,-0.00579454586841166,0.014985281508415937,-0.00872888509184122,0.1459688413888216,0.014588745310902596,0.06285899807699025,-0.12899390142410994,-0.010741844773292542,-0.12612473592162132,0.13214814697857946,0.09123904397711158,0.14217173401266336,0.16540402022656053,-0.07231600186787546,0.22977646673098207,0.08606237033382058,0.031672555953264236,0.20035616215318441,0.12415640614926815,0.14232898340560496,-0.03542308881878853,0.12988069653511047,-0.03285933146253228,-0.06631094217300415,0.14311972819268703,0.006602809735340998,-0.16740067396312952,-0.09920174069702625,-0.2217274932190776,-0.1081759906373918,0.005604431964457035,-0.00896898377686739,-0.15010054409503937,-5.535781383514404E-4,0.020065038232132792,0.06714801024645567,-0.12167910765856504,-0.023643299471586943,0.033772232476621866,0.13049504184164107,-0.008628802374005318,0.0841713547706604,0.1140960855409503,0.05891315033659339,0.2683465275913477,-0.08629529131576419,0.2448453288525343,0.21394979860633612,0.11069352179765701,-0.11304205702617764,0.019335935125127435,0.010824857745319605,0.09228278882801533,0.01970045967027545,0.10050333780236542,0.14154864428564906,0.15860850643366575,0.029247989412397146,0.07668036594986916,0.23375987075269222,-0.018997400999069214,0.025127336382865906,-0.07185130938887596,0.043254241114482284,-0.017924753949046135,-0.08718327432870865,-0.03930529486387968,-0.027980017010122538,0.0034151834552176297,-0.10685555450618267,-0.1292523592710495,-0.0030045583844184875,-0.08583839144557714,-0.024899822659790516,-0.022065826691687107,0.024516890523955226,-0.0031960991909727454,-0.05305098183453083,-0.06476303446106613,-0.04485014174133539,0.009470994584262371,-0.05819830112159252,-0.006124436389654875,0.12908878922462463,-0.21839299518615007,-0.061829138081520796,-0.04730324260890484,-0.03174758329987526,-0.05588526511564851,-0.07381901843473315,-0.024917814880609512,-0.2262610117904842,-0.015088769607245922,0.011948232538998127,-0.027763293124735355,-0.032631794922053814,-0.011676199734210968,-0.01858332334086299,0.0661293063312769,-0.013649160042405128,0.0556701710447669,0.10575116984546185,0.033894672989845276,0.11211518198251724,0.0027747098356485367,-0.005597540060989559,0.03686714172363281,-0.10581572726368904,0.00299603003077209,-0.11558547499589622,0.15969517081975937]       |\n|russia refuses to rule out veto against iraq      |[russia, refuses, to, rule, out, veto, against, iraq]     |[russia, refuses, rule, veto, iraq]                       |[russia, refus, rule, veto, iraq]                     |[0.05821538753807545,0.15739368163049222,0.20195568799972535,0.09341067261993885,0.17971279919147493,0.09109519850462676,-0.003668982069939375,-0.01801174394786358,-0.1486947849392891,0.2305955931544304,0.010967294257716276,0.04134491533041001,-0.193018788844347,0.04407399501651526,0.12286505848169327,0.02780136074870825,-0.004878014698624611,0.14056825786828994,-0.009407233493402601,0.03283381387591362,0.012149620801210403,0.19771823585033418,-0.068698038905859,-7.371008396148682E-4,-0.12441431507468224,-0.05381852835416794,-0.1543769970536232,-0.039518396370112896,-0.10217114016413689,-0.061495898663997656,-5.190886557102204E-4,0.04059238135814667,-0.026220843940973283,-0.10047690570354462,0.2016210973262787,0.02476093452423811,-0.0724546279758215,-0.10802244218066336,-0.04451185138896108,-0.024777438119053842,0.02213723659515381,0.19696477055549622,0.03455153200775385,0.005396384745836258,-0.1856638088822365,-0.01764107495546341,0.018152951588854195,0.05861459225416184,-0.1369148924946785,0.007147285714745522,0.019324004650115967,-0.07816766500473023,0.11100326105952263,0.12715902850031854,-0.10651920884847642,0.08828244665637613,0.08034700732678175,-0.014362570643424988,0.05037664622068405,-0.017661193758249285,-0.03437909111380577,0.09651838652789593,-0.12234977261396125,-0.05487916171550751,-0.2076141655445099,0.049007705785334116,-0.1244879148900509,-0.15835306718945505,-0.05156669318675995,-0.010500054806470871,0.033392160013318066,-0.13556340746581555,0.21924874782562256,-0.09772664001211524,-0.018550128489732743,-0.004639536142349243,0.274221582710743,-0.08586080558598042,0.04028164260089398,0.027396836504340175,-0.022699431516230106,-0.018835165351629258,0.13904952324228362,0.18201283365488052,-0.04337242096662522,-0.0919046275317669,-0.03323276783921756,-0.057257562526501715,0.17521894723176956,-0.26767567694187167,0.03248167671263218,-0.21203402727842333,-0.0542796615511179,0.011822700127959253,0.15534474253654482,-0.26469060480594636,0.016105166077613833,-0.12353840693831444,0.058501635491847996,0.17206221967935564,-0.10504598543047905,0.05482801496982575,-0.016965083219110968,-0.05128353200852871,-0.035637644678354265,-0.05546444356441498,0.01471802219748497,0.14252890455536546,-0.0022551113739609717,0.014948396757245064,0.09757709875702858,0.06303923837840557,0.02898077666759491,0.16599478088319303,-0.15351881869137288,-0.07816567867994309,-0.18245493024587633,-0.18798056691884996,0.24484111368656158,-0.07056931089609862,-0.09209195449948311,-0.04721946804784238,0.1137864500284195,0.10453934660181403,0.1090679842978716,0.038525113463401796,-0.03804009836167097,-0.1630003243684769,-0.052676578611135484,0.03230910748243332,-0.003139386884868145,-0.0783833645284176,-0.03071759566664696,0.00926932729780674,0.15108303166925907,-0.13827318437397482,0.0630178164690733,-0.01998244933784008,-0.06613321006298066,-0.13908769749104977,-0.02529169172048569,0.017678102105855943,-0.013631813973188401,-0.05802661660127342,-0.08369409777224064,-0.09045496359467507,-0.20276183374226095,0.06548186466097831,0.01335582509636879,0.10351137211546302]                          |\n|candidates get ballot paper positions             |[candidates, get, ballot, paper, positions]               |[candidates, get, ballot, paper, positions]               |[candid, get, ballot, paper, posit]                   |[0.08567424449138344,0.0166081577539444,-0.14825638495385648,0.06270870640873909,0.1546087607741356,0.12477439418435098,0.0043868787586689,-0.03110482841730118,-0.09760075509548188,-0.08194904420524836,-0.19887074828147888,-0.15368734039366247,-0.09708464033901693,0.16833339743316175,0.015348045155405998,0.06654957085847855,0.1446900622919202,0.1396716432645917,-0.016252219397574662,-0.0028739035129547123,-0.12166834771633149,0.06437234729528428,-0.08126879334449769,-0.13748439997434617,-0.014029772952198982,0.02738575413823128,0.003238150477409363,0.007886931486427785,-0.07547750324010849,0.07637008205056191,0.03411023039370775,0.1722241323441267,-0.018216534331440926,-0.03555900258943439,-0.0030571240931749344,-0.011339792609214784,-0.023268431425094604,0.027381358202546835,-0.08168532364070416,0.0961896486580372,-0.011840502917766572,-0.022365611093118788,-0.23588071763515472,-0.007053700089454652,-0.09217107507865877,-0.02194666862487793,0.10046538338065147,0.07379155904054642,0.16088559441268446,0.2888162225484848,0.11632716841995716,0.09651363641023636,-0.1668541267514229,-0.1279738273471594,-0.10342730730772019,-0.04775490919128061,0.004449043050408364,-0.04597214497625828,-0.04347043782472611,-0.05362832862883807,0.11172937443479897,0.10389787778258325,0.14730814954964444,-0.10817001760005951,-0.18984814938157799,-0.12582886181771755,-0.05223638936877251,-0.00741274431347847,-0.001967230252921581,-0.029675228986889124,0.006969315558671952,0.002303037373349071,0.1386318311095238,0.17638837546110153,-0.0527296562679112,-0.13388988338410854,0.3203212127089501,-0.13589224480092527,0.08630642741918565,-0.011544277146458627,0.008367104828357697,-0.11938900202512742,0.010635963268578054,-0.07827198612503708,0.14570652563124895,-0.02530876956880093,-0.06456051617860795,0.008938764315098524,0.034461624734103684,-0.06539697705302387,-0.042486543580889706,0.012612884212285281,-0.08172849863767624,-0.22660397589206696,-0.06303974762558938,-0.08184997676871718,-0.04622303564101458,-0.11874134857207537,0.20697510931640864,0.1542749971151352,-0.2279112607240677,-0.007461585476994515,0.050114846974611285,-0.05328529104590416,-0.027320797368884087,0.08379293680191041,0.06891849040985108,-0.01724316207692027,0.08209663853049279,0.053669461328536276,-0.10840153172612191,-0.22845526020973922,-3.3694058656692506E-4,-0.036966847255825996,0.0225029818713665,-0.15300433188676835,-0.028870534198358656,-0.10333279594779016,0.17035357356071473,-0.1011215265840292,-0.1996826108545065,-0.07490893304347992,0.04212469384074211,-0.0974232035689056,0.05523128472268582,-0.1790414422750473,0.1334858734160662,-0.11265455931425095,-0.04070731289684773,-0.0656427918933332,0.09188798032701016,-0.10275510465726256,-0.06789977373555303,0.069192748144269,-0.05826685354113579,0.11454652077518404,-0.032550238817930226,0.04433338716626167,-0.03065236546099186,-0.17577181681990625,-0.04008660736726597,-0.16384650543332102,0.06533306837081909,-0.02127809301018715,-0.033977074176073076,-0.07156430687755347,-0.08949742950499058,0.0887053206562996,0.061305475234985356,0.09299092143774033]                      |\n|aust and new zealand celebrate trade agreement    |[aust, and, new, zealand, celebrate, trade, agreement]    |[aust, new, zealand, celebrate, trade, agreement]         |[aust, new, zealand, celebr, trade, agreement]        |[-0.04936830835261692,-0.0028528161346912384,-0.15507917785240957,-0.027744533261284232,0.16337245237082243,0.01747204860051473,0.06683150306344032,-0.04035797187437613,-0.07682688906788826,0.14502361292640367,-0.16565680472801128,-0.10687719782193501,0.10053133103065193,-0.18753107140461603,0.03762552266319592,0.0770036093890667,-0.045150306075811386,-0.02797100848207871,-0.18911050135890642,0.027976243756711483,0.032051977391044296,0.19265585578978062,-0.018719345331192017,0.08378281444311142,0.016256729140877724,0.05978652276098728,-0.011269567650742829,-0.020867242012172937,-0.056036205030977726,-0.09997129005690415,0.06657819077372551,0.009118642657995224,0.058470304434498147,-6.525181233882904E-4,0.14019154508908588,-0.029735789944728214,-0.008156647284825642,-0.1522627978896101,-0.055801473557949066,-0.05523485216932992,-0.22008835275967914,-0.021679503222306568,0.1689877542667091,-0.0992420855909586,-0.06194234003002445,-0.08403024698297182,0.11812866199761629,0.10704648805161317,-0.1651846468448639,-0.032817417755723,0.13059408714373905,-0.03654752702762683,0.16358193072179952,0.08812240573267141,-0.029152912087738514,0.05844325362704694,-0.23428278944144645,0.0548916757106781,0.06223863704750935,-0.016974001191556454,-0.0010723499387192228,-0.0018825413038333256,-0.10732299524048963,-0.13183189431826273,-0.13767443131655455,-0.18427464303870994,0.1132049129034082,-0.017493645660579205,-0.04501720533395807,0.1196792492022117,-0.010507397120818496,-0.0461038922270139,0.11715285355846086,0.12065633642487228,-0.008940087631344795,0.17955714215834934,0.08932759364446004,0.1157983384716014,0.07778125970313945,0.004267153640588124,-0.1913539469242096,0.10090619946519533,0.23319288777808347,-0.13672850281000137,-0.0012730409701665242,-0.05446120910346508,0.04027499196430047,0.1450577354989946,0.05158490281974082,-0.2971571274101734,-0.0743793398141861,-0.07848797552287579,0.08677666913717985,-0.06976196728646755,0.01886091846972704,-0.35482368369897205,-0.042491315553585686,0.16035967009762922,0.14327592371652523,0.016895814488331475,-0.1992382841805617,0.12063543498516083,0.014429047936573625,0.18326314096339047,0.08548637107014656,-0.1631855070590973,0.044839681436618165,0.004648351420958837,0.005478028208017349,-0.09669414907693863,0.2365415406723817,0.1409142104287942,-0.01138144622867306,-0.08958672739875813,-0.06637291672329107,0.04643892993529637,-0.24932073118786016,0.00960179107884566,0.12098747057219346,0.04032531859896456,-0.05570682014028231,-0.06837104757626851,-0.12196361335615316,0.1016776164372762,-0.029118244225780167,-0.014276058723529179,0.058925552759319544,-0.1614538418749968,-0.006161096195379892,-0.02082885553439458,0.1028635154167811,-0.0328218104938666,0.009231886516014734,0.12626307706038156,-0.0490362333948724,0.24360280375306803,-0.07913202606141567,0.15247442697485286,0.12961293756961823,-0.013772019495566685,0.14233287175496417,-0.004441843678553899,0.06282362217704454,-0.06015572945276896,0.08691466723879178,-0.1224456758548816,-0.15403797353307405,0.01241842471063137,-0.24426922108978033,-0.005878289540608724]                          |\n|nsw police target phone drivers                   |[nsw, police, target, phone, drivers]                     |[nsw, police, target, phone, drivers]                     |[nsw, polic, target, phone, driver]                   |[0.056321655958890916,0.0457136869430542,-0.16845244579017163,0.14047966822981836,0.10215681616682559,-0.21237566079944373,0.0016914561390876772,0.05257700979709626,-0.11710426956415176,-0.012982433289289476,0.1805137914605439,-0.1468960851430893,0.09039884209632874,0.15889184921979904,0.12269248943775893,0.09682321548461914,0.10536233410239221,0.032776334136724476,0.027212557196617127,-0.08648335225880147,-0.18461953252553942,-0.22394166290760043,-0.03330097123980522,-0.18386464887298645,-0.13124420791864397,0.02985351085662842,-0.2462739795446396,-0.10692089796066284,-0.016098712012171747,-0.1060719557106495,0.06105538234114647,0.3883313596248627,0.18366832360625268,0.1695936381816864,-0.08227624744176865,-0.035557739436626434,-0.11318304166197778,0.05334103852510452,0.24545589815825225,-0.02953471764922142,0.017886982858181,-0.11196744404733182,0.06270025372505188,-0.07816755762323738,-0.18485625050961974,-0.01616514176130295,-0.02805790062993765,0.14006242752075196,0.0920139279216528,0.029968155920505526,-0.19019869714975357,-0.00405682846903801,0.16307629793882372,-0.04381816685199738,0.12040769737213851,-0.0013480767607688905,0.06333304047584534,0.05481624454259873,-0.018709946423768997,-0.165135857462883,-0.02331466596806422,-0.004436907172203064,0.2177767187356949,-0.11856217943131925,-0.07497181557118893,-0.19556413255631924,-0.18309321552515032,0.010049833497032524,0.00822489765341743,0.14079989939928056,0.11351889967918397,0.058657393977046016,-0.019295953400433066,-0.04818336479365826,-0.008202684298157693,-0.03290110665839165,0.026122923474758863,-0.1356032744050026,0.15046985149383546,0.1925740897655487,-0.10547305755317211,-0.17417623847723007,0.010927603952586651,-0.030277889966964722,-0.08674668623134495,0.031882887426763776,-0.10461264103651047,-0.10916399881243706,-0.0015197125263512136,0.01983243888244033,-0.04930483505013399,0.15568330883979797,-0.12968466766178607,0.008820607140660287,0.1958618238568306,0.029313498921692372,-0.10608341917395592,-0.154606056958437,0.0602264691144228,-0.0201313316822052,-0.12415959425270558,-0.24564782083034517,0.14656895101070405,-0.012050038203597069,0.01216634400188923,0.1975602447986603,0.1337584711611271,-0.027097634971141815,0.01767668202519417,-0.23751063272356987,0.13606708869338036,0.07366149900481105,0.1180831003934145,0.07994833998382092,0.19527666084468365,-0.09209077134728433,0.04648178517818451,0.13220103047788143,0.08864230662584305,0.1257375031709671,-0.009830859303474427,-0.11635725125670433,0.033502233773469926,0.04578078761696816,0.012208937108516693,-0.09254522677510978,-0.23221968094003387,-0.08141498863697053,-0.003482227772474289,2.2194162011146548E-5,0.20817756671458484,0.22621570527553558,-0.13755662888288497,-0.21799073368310928,0.08321740739047528,0.07456313446164131,-0.07092587649822235,0.023111588880419733,-0.33458248376846317,-0.12412035875022412,-0.24761704355478287,-0.13244584426283837,0.03988144318573177,0.0028171246871352197,0.2066745772957802,-0.08682881351560355,-0.07740992307662964,-0.0770107469521463,0.2893627107143402,-0.2270041882991791]                                        |\n|opposition parties question timing of iraqi spy   |[opposition, parties, question, timing, of, iraqi, spy]   |[opposition, parties, question, timing, iraqi, spy]       |[opposit, parti, question, time, iraqi, spi]          |[-0.07063941300536195,0.19240537813554207,-0.0312641765922308,0.07685157322945693,0.06589341908693314,0.06308979106446107,-0.13304041077693302,0.06702112685889006,0.038894956931471825,0.04513608540097872,-0.07723144193490346,0.01646442680309216,-0.1251552328467369,0.1646378766745329,0.033969683572649956,0.056556740775704384,0.01504617432753245,0.1952352834244569,-0.0547042042016983,-0.0928290287653605,-0.10934775012234846,0.1359142353758216,-0.06818489792446294,0.05283763166517019,-0.12599944711352387,-0.042931196900705494,-0.12172364195187886,-0.06548931760092576,-0.15864299486080805,0.06921371289839347,0.08116193550328413,0.11412064793209234,-0.07929183325419822,0.047555591755857066,0.15537149583299953,-0.0923287533223629,-0.10764112294418737,-0.005555353554276128,-0.07670005907615025,-0.021846241938571133,-0.017418175004422665,0.09647396393120289,-0.07010093090745309,0.011388018727302551,-0.06961816394080718,-0.1583821214735508,0.03512137833361824,0.0074389902874827385,0.01988482102751732,0.026945247004429497,-0.08765285337964693,0.08040259933720031,-0.09769267092148462,0.028066049329936504,-0.14985348905126253,0.08064573258161545,-0.06392225809395313,0.13172480650246143,-0.04422178026288748,0.060044593177735806,-0.06102259655017406,0.0539349199583133,0.03987283818423748,-0.12783339681724706,-0.12400993953148523,-0.0247366347660621,-0.017136943216125168,0.01017460785806179,-0.046863824129104614,-0.11168951417009035,0.11104358235994974,-0.04629754973575473,0.24310172628611326,-0.029842348769307137,-0.07764174478749433,-0.06312393847232063,0.271511527399222,-0.10421186592429876,0.08408673914770284,0.05620241351425648,0.05728389408128957,-0.05134385218843818,0.21279948763549328,-0.09053670011053327,-0.05924323387444019,-0.027472017779170223,-0.10457831745346387,-0.06475592920711884,0.10730258623758951,-0.09481745585799217,-0.0027677938730145493,-0.057074698309103646,-0.17205711780115962,-0.15938619524240494,0.055581706420828894,-0.15950941046078998,-0.1162261546899875,-0.22611681992808977,0.1497752120097478,0.14169475932916004,-0.1416607933739821,-0.031634043281277016,-0.12313264080633719,-0.09061324223876,-0.03901607419053713,-0.060475872829556465,0.004860732704401016,-0.06789582300310333,-0.0369898776213328,-0.04802831448614597,0.05614033713936806,-0.03842957286785046,0.039593716307232775,0.001717813933889071,-0.15247795078903437,-0.209136592845122,-0.1711063782374064,-0.07333810379107793,0.16874283800522485,-0.14793585326212147,-0.1403791345655918,0.04717860153565804,0.1444317353889346,-0.07278959825634956,0.22503691042462984,-0.0015491483112176259,-0.12209237948991358,-0.15056297648698092,-0.033332201962669686,0.08385060975948969,-0.038623246926969536,-0.09369751748939355,-0.051309361432989434,-0.11557293372849622,0.0284449436100355,-0.027787117830788095,0.016684229175249733,-0.10673138406127691,-0.10337851755321026,-0.09409032358477512,-0.055666650024553135,-0.09446026881535848,-0.015403132575253645,0.029869878043731053,-0.18855462968349457,-0.11573340968849757,-0.08866910201807816,0.11217931192368269,0.08113142351309457,-0.012375822756439447]                     |\n+--------------------------------------------------+----------------------------------------------------------+----------------------------------------------------------+------------------------------------------------------+-----------------------------------------------------------------------------------------------------------------------------------------------------------------------------------------------------------------------------------------------------------------------------------------------------------------------------------------------------------------------------------------------------------------------------------------------------------------------------------------------------------------------------------------------------------------------------------------------------------------------------------------------------------------------------------------------------------------------------------------------------------------------------------------------------------------------------------------------------------------------------------------------------------------------------------------------------------------------------------------------------------------------------------------------------------------------------------------------------------------------------------------------------------------------------------------------------------------------------------------------------------------------------------------------------------------------------------------------------------------------------------------------------------------------------------------------------------------------------------------------------------------------------------------------------------------------------------------------------------------------------------------------------------------------------------------------------------------------------------------------------------------------------------------------------------------------------------------------------------------------------------------------------------------------------------------------------------------------------------------------------------------------------------------------------------------------------------------------------------------------------------------------------------------------------------------------------------------------------------------------------------------------------------------------------------------------------------------------------------------------------------------------------------------------------------------------------------------------------------------------------------------------------------------------------------------------------------------------------------------------------------------------------------------------------------------------------------------------------------------------------------------------------------------------------------------------------------------------------------------------------------------------------------------------------------------------------------------------------------------------------------------------------------------------------------------------------------------------------------------------------------------------------------------------------------------------------------------------------------------------------+\nonly showing top 20 rows\n\n"
          ]
        }
      ],
      "source": [
        "w2v_features.show(truncate=False)"
      ]
    },
    {
      "cell_type": "code",
      "execution_count": null,
      "metadata": {
        "application/vnd.databricks.v1+cell": {
          "cellMetadata": {
            "byteLimit": 2048000,
            "rowLimit": 10000
          },
          "inputWidgets": {},
          "nuid": "b5167003-3049-4a9f-b9f5-b5842e5804c5",
          "showTitle": false,
          "tableResultSettingsMap": {},
          "title": ""
        },
        "id": "VlTOGpq891SD",
        "outputId": "ae82e90c-9f08-4ec9-e0c9-440a60780a82"
      },
      "outputs": [
        {
          "output_type": "stream",
          "name": "stdout",
          "text": [
            "+-------+------------------+\n|   word|        similarity|\n+-------+------------------+\n|  nurse|  0.70589679479599|\n|surgeon|0.6926254034042358|\n+-------+------------------+\n\n"
          ]
        }
      ],
      "source": [
        "vecs = model.getVectors()\n",
        "syms = model.findSynonyms(\"doctor\", 2)\n",
        "syms.show()"
      ]
    },
    {
      "cell_type": "code",
      "execution_count": null,
      "metadata": {
        "application/vnd.databricks.v1+cell": {
          "cellMetadata": {
            "byteLimit": 2048000,
            "rowLimit": 10000
          },
          "inputWidgets": {},
          "nuid": "5ff6e1a2-f14e-4b54-b22c-ee64ca623b17",
          "showTitle": false,
          "tableResultSettingsMap": {},
          "title": ""
        },
        "id": "mpu-F9Xx91SD"
      },
      "outputs": [],
      "source": []
    },
    {
      "cell_type": "code",
      "execution_count": null,
      "metadata": {
        "application/vnd.databricks.v1+cell": {
          "cellMetadata": {
            "byteLimit": 2048000,
            "rowLimit": 10000
          },
          "inputWidgets": {},
          "nuid": "829a7c6f-491a-4314-8eb1-c29e88966671",
          "showTitle": false,
          "tableResultSettingsMap": {},
          "title": ""
        },
        "id": "sLje4JOf91SD"
      },
      "outputs": [],
      "source": [
        "K_MIN = 2\n",
        "K_MAX = 18\n",
        "STEP = 2"
      ]
    },
    {
      "cell_type": "code",
      "execution_count": null,
      "metadata": {
        "application/vnd.databricks.v1+cell": {
          "cellMetadata": {
            "byteLimit": 2048000,
            "rowLimit": 10000
          },
          "inputWidgets": {},
          "nuid": "a519b4f6-a222-4db1-adaf-bd0423a6e3ca",
          "showTitle": false,
          "tableResultSettingsMap": {},
          "title": ""
        },
        "id": "Fj4xbfXu91SD"
      },
      "outputs": [],
      "source": [
        "def elbow_method(data, k_min=K_MIN, k_max=K_MAX, step=STEP, max_iter=MAX_ITERATIONS, distance_measure=DISTANCE_MEASURE):\n",
        "  results = []\n",
        "  for k in range(k_min, k_max, step):\n",
        "    model, clusters_df = k_means(data, k, max_iter=max_iter, distance_measure=distance_measure)\n",
        "    results.append([k, model.summary.trainingCost])\n",
        "\n",
        "  return pd.DataFrame(results, columns = ['K', 'SSE'])"
      ]
    },
    {
      "cell_type": "code",
      "execution_count": null,
      "metadata": {
        "application/vnd.databricks.v1+cell": {
          "cellMetadata": {
            "byteLimit": 2048000,
            "rowLimit": 10000
          },
          "inputWidgets": {},
          "nuid": "1cc3af6a-1ac7-400e-ae70-ac2346f846a0",
          "showTitle": false,
          "tableResultSettingsMap": {},
          "title": ""
        },
        "id": "dOruhE4m91SE",
        "outputId": "17559831-4aac-4753-f773-61d502989a0b"
      },
      "outputs": [
        {
          "output_type": "stream",
          "name": "stdout",
          "text": [
            "Training K-means clustering using the following parameters: \n  - K (n. of clusters) = 2\n  - max_iter (max n. of iterations) = 100\n  - distance measure = euclidean\n  - random seed = 42\n  \nTraining K-means clustering using the following parameters: \n  - K (n. of clusters) = 4\n  - max_iter (max n. of iterations) = 100\n  - distance measure = euclidean\n  - random seed = 42\n  \nTraining K-means clustering using the following parameters: \n  - K (n. of clusters) = 6\n  - max_iter (max n. of iterations) = 100\n  - distance measure = euclidean\n  - random seed = 42\n  \n"
          ]
        }
      ],
      "source": [
        "# Get results from elbow method\n",
        "elbow_results = elbow_method(w2v_features)"
      ]
    }
  ],
  "metadata": {
    "application/vnd.databricks.v1+notebook": {
      "dashboards": [],
      "environmentMetadata": null,
      "language": "python",
      "notebookMetadata": {
        "mostRecentlyExecutedCommandWithImplicitDF": {
          "commandId": 3355771795309966,
          "dataframes": [
            "_sqldf"
          ]
        },
        "pythonIndentUnit": 4
      },
      "notebookName": "nlp_kmeans (1)",
      "widgets": {}
    },
    "colab": {
      "provenance": []
    }
  },
  "nbformat": 4,
  "nbformat_minor": 0
}